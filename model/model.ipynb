{
 "cells": [
  {
   "cell_type": "code",
   "execution_count": null,
   "id": "d1967bc5-b117-45c0-8482-1975dcf33e4f",
   "metadata": {},
   "outputs": [],
   "source": [
    "import numpy as np"
   ]
  },
  {
   "cell_type": "code",
   "execution_count": null,
   "id": "2616619a-1eb2-480a-99fd-b60398145e36",
   "metadata": {},
   "outputs": [],
   "source": [
    "# 定义变量\n",
    "m = 1000 \n",
    "theta = 0.75\n",
    "alp = 1.0"
   ]
  },
  {
   "cell_type": "code",
   "execution_count": null,
   "id": "f866ef93-3d99-409f-9e40-1c76e3d88db9",
   "metadata": {},
   "outputs": [],
   "source": [
    "# 定义文件夹路径\n",
    "folder = 'input/'\n",
    "folder1 = 'result/'"
   ]
  },
  {
   "cell_type": "code",
   "execution_count": null,
   "id": "e57b2322-9d08-4565-bbdc-16e8322b9ece",
   "metadata": {},
   "outputs": [],
   "source": [
    "# 打开拓扑文件\n",
    "with open(folder + 'RIVER_TOPO_FILE.txt') as f:\n",
    "    JuncNum, JuncNum1, JuncNum2 = [int(x) for x in f.readline().split()] \n",
    "    ChanNum, chanNum1, chanNum2 = [int(x) for x in f.readline().split()]\n",
    "    UbouNum, AbouNum = [int(x) for x in f.readline().split()]"
   ]
  }
 ],
 "metadata": {
  "kernelspec": {
   "display_name": "Python (tutorial)",
   "language": "python",
   "name": "tutorial"
  },
  "language_info": {
   "codemirror_mode": {
    "name": "ipython",
    "version": 3
   },
   "file_extension": ".py",
   "mimetype": "text/x-python",
   "name": "python",
   "nbconvert_exporter": "python",
   "pygments_lexer": "ipython3",
   "version": "3.9.13"
  }
 },
 "nbformat": 4,
 "nbformat_minor": 5
}
