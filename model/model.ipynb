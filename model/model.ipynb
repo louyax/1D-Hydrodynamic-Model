{
 "cells": [
  {
   "cell_type": "code",
   "execution_count": 50,
   "id": "d1967bc5-b117-45c0-8482-1975dcf33e4f",
   "metadata": {},
   "outputs": [],
   "source": [
    "import numpy as np"
   ]
  },
  {
   "cell_type": "code",
   "execution_count": null,
   "id": "21e5fe74-8117-4e7e-afba-62c85deacbcb",
   "metadata": {},
   "outputs": [],
   "source": []
  },
  {
   "cell_type": "code",
   "execution_count": 63,
   "id": "ef1aa5c6-e5c4-4152-b409-a13a78635e59",
   "metadata": {
    "tags": []
   },
   "outputs": [],
   "source": [
    "# 定义全局常量\n",
    "G = 9.81\n",
    "\n",
    "# 定义Junction节点类\n",
    "class Junction:\n",
    "    def __init__(self):\n",
    "        self.ki = 0 \n",
    "        self.ko = 0\n",
    "        self.flag = 0\n",
    "        self.in_ = np.zeros(10,dtype=int)\n",
    "        self.out = np.zeros(10,dtype=int)\n",
    "        self.z = 0.0\n",
    "        self.dz = 0.0\n",
    "        self.o = 0.0\n",
    "        self.a = 0.0\n",
    "\n",
    "# 定义Channel河段类        \n",
    "class Channel:\n",
    "    def __init__(self):\n",
    "        self.name = ''\n",
    "        self.no = 0\n",
    "        self.st = 0 \n",
    "        self.en = 0\n",
    "        self.m = 0\n",
    "        self.slope = 0.0\n",
    "        self.la = 0.0\n",
    "        self.ds = 0.0\n",
    "        self.s = np.zeros(1000)\n",
    "        self.zb = np.zeros(1000)\n",
    "        # ...省略其它成员变量初始化...\n",
    "        \n",
    "# 定义全局变量        \n",
    "JuncNum = 0 \n",
    "ChanNum = 0\n",
    "ChanM = 100\n",
    "SecN = 1000\n",
    "JuncM = 100\n",
    "JuncN = 10 \n",
    "\n",
    "Chan = [Channel() for i in range(ChanM)] \n",
    "Junc = [Junction() for i in range(JuncM)]"
   ]
  },
  {
   "cell_type": "code",
   "execution_count": 51,
   "id": "2616619a-1eb2-480a-99fd-b60398145e36",
   "metadata": {},
   "outputs": [],
   "source": [
    "# 定义变量\n",
    "m = 1000 \n",
    "theta = 0.75\n",
    "alp = 1.0"
   ]
  },
  {
   "cell_type": "code",
   "execution_count": 52,
   "id": "f866ef93-3d99-409f-9e40-1c76e3d88db9",
   "metadata": {},
   "outputs": [],
   "source": [
    "# 定义文件夹路径\n",
    "folder = '/home/louyaxin/1D-Hydrodynamic-Model/input/'\n",
    "folder1 = 'result/'"
   ]
  },
  {
   "cell_type": "code",
   "execution_count": 53,
   "id": "e57b2322-9d08-4565-bbdc-16e8322b9ece",
   "metadata": {},
   "outputs": [],
   "source": [
    "# 打开拓扑文件\n",
    "def read_file(f):\n",
    "    with open(folder + 'TOPO.txt') as f:\n",
    "        JuncNum, JuncNum1, JuncNum2 = [int(x) for x in f.readline().split()] \n",
    "        ChanNum, chanNum1, chanNum2 = [int(x) for x in f.readline().split()]\n",
    "        UbouNum, AbouNum = [int(x) for x in f.readline().split()]"
   ]
  },
  {
   "cell_type": "code",
   "execution_count": 54,
   "id": "584ef319-46f6-447e-b2c9-49e76db736f3",
   "metadata": {
    "tags": []
   },
   "outputs": [
    {
     "name": "stdout",
     "output_type": "stream",
     "text": [
      "ChanNum=3, chanNum1=0, chanNum2=1\n",
      "JuncNum=4, JuncNum1=1, JuncNum2=2\n",
      "river star end\n"
     ]
    }
   ],
   "source": [
    "print(f'ChanNum={ChanNum}, chanNum1={chanNum1}, chanNum2={chanNum2}') \n",
    "print(f'JuncNum={JuncNum}, JuncNum1={JuncNum1}, JuncNum2={JuncNum2}')\n",
    "print('river star end')"
   ]
  },
  {
   "cell_type": "code",
   "execution_count": 55,
   "id": "cd2caafa-0cf1-4c82-ab85-c775f0cf9259",
   "metadata": {
    "tags": []
   },
   "outputs": [],
   "source": [
    "read_file(f)"
   ]
  },
  {
   "cell_type": "code",
   "execution_count": 56,
   "id": "5736d182-47dc-4261-9768-92f5913216b9",
   "metadata": {
    "tags": []
   },
   "outputs": [
    {
     "name": "stdout",
     "output_type": "stream",
     "text": [
      "Handle the relationship between river section number and node number:\n"
     ]
    }
   ],
   "source": [
    "def read_file(f):\n",
    "    chan = []\n",
    "    for i in range(ChanNum):\n",
    "        no, st, en, name = f.readline().split()\n",
    "        chan.append({\n",
    "       'no': int(no),\n",
    "       'st': int(st),\n",
    "       'en': int(en),\n",
    "       'name': name\n",
    "    })\n",
    "    print(chan[i]['no'], chan[i]['st'], chan[i]['en'], chan[i]['name'])\n",
    "print('Handle the relationship between river section number and node number:')   "
   ]
  },
  {
   "cell_type": "code",
   "execution_count": null,
   "id": "94d7ab8c-31ca-47e5-816b-ec94bfcd224d",
   "metadata": {},
   "outputs": [],
   "source": []
  },
  {
   "cell_type": "code",
   "execution_count": 58,
   "id": "09508396-2e92-4ace-bc4c-f5d0d384840a",
   "metadata": {
    "tags": []
   },
   "outputs": [],
   "source": [
    "#打开时间步长文件\n",
    "with open(folder + 'TIME.txt') as f:\n",
    "    dt = float(f.readline())  \n",
    "    rdt = float(f.readline())"
   ]
  },
  {
   "cell_type": "code",
   "execution_count": 59,
   "id": "c5f43d01-78f3-4b2f-88e8-2f73da755407",
   "metadata": {
    "tags": []
   },
   "outputs": [],
   "source": [
    "# 根据Junc中的标记分类节点\n",
    "for i in range(JuncNum1+1, JuncNum2):\n",
    "    Junc[i].flag = 1\n",
    "    print(f'Nodes {i} is downstream boundary point')"
   ]
  },
  {
   "cell_type": "code",
   "execution_count": 64,
   "id": "6da5b6e1-cea2-4f67-b6c6-342b2ca1708d",
   "metadata": {
    "tags": []
   },
   "outputs": [
    {
     "ename": "TypeError",
     "evalue": "'Junction' object does not support item assignment",
     "output_type": "error",
     "traceback": [
      "\u001b[0;31m---------------------------------------------------------------------------\u001b[0m",
      "\u001b[0;31mTypeError\u001b[0m                                 Traceback (most recent call last)",
      "Input \u001b[0;32mIn [64]\u001b[0m, in \u001b[0;36m<cell line: 1>\u001b[0;34m()\u001b[0m\n\u001b[1;32m      1\u001b[0m \u001b[38;5;28;01mfor\u001b[39;00m i \u001b[38;5;129;01min\u001b[39;00m \u001b[38;5;28mrange\u001b[39m(JuncNum1\u001b[38;5;241m+\u001b[39m\u001b[38;5;241m1\u001b[39m, JuncNum2\u001b[38;5;241m+\u001b[39m\u001b[38;5;241m1\u001b[39m):\n\u001b[0;32m----> 2\u001b[0m     \u001b[43mJunc\u001b[49m\u001b[43m[\u001b[49m\u001b[43mi\u001b[49m\u001b[43m]\u001b[49m\u001b[43m[\u001b[49m\u001b[38;5;124;43m'\u001b[39;49m\u001b[38;5;124;43mflag\u001b[39;49m\u001b[38;5;124;43m'\u001b[39;49m\u001b[43m]\u001b[49m \u001b[38;5;241m=\u001b[39m \u001b[38;5;241m1\u001b[39m\n\u001b[1;32m      3\u001b[0m     \u001b[38;5;28mprint\u001b[39m(\u001b[38;5;124mf\u001b[39m\u001b[38;5;124m'\u001b[39m\u001b[38;5;124mNodes \u001b[39m\u001b[38;5;132;01m{\u001b[39;00mi\u001b[38;5;132;01m}\u001b[39;00m\u001b[38;5;124m is downstream boundary point\u001b[39m\u001b[38;5;124m'\u001b[39m)\n",
      "\u001b[0;31mTypeError\u001b[0m: 'Junction' object does not support item assignment"
     ]
    }
   ],
   "source": [
    "for i in range(JuncNum1+1, JuncNum2+1):\n",
    "    Junc[i]['flag'] = 1\n",
    "    print(f'Nodes {i} is downstream boundary point')"
   ]
  },
  {
   "cell_type": "code",
   "execution_count": 70,
   "id": "b36dfeb3-9a35-49de-9735-5c1172503ac7",
   "metadata": {
    "tags": []
   },
   "outputs": [
    {
     "name": "stdout",
     "output_type": "stream",
     "text": [
      "ChanNum=3, chanNum1=0, chanNum2=1\n",
      "JuncNum=4, JuncNum1=1, JuncNum2=2\n",
      "Nodes 3 is upstream boundary point\n"
     ]
    },
    {
     "ename": "ValueError",
     "evalue": "no field of name in",
     "output_type": "error",
     "traceback": [
      "\u001b[0;31m---------------------------------------------------------------------------\u001b[0m",
      "\u001b[0;31mValueError\u001b[0m                                Traceback (most recent call last)",
      "Input \u001b[0;32mIn [70]\u001b[0m, in \u001b[0;36m<cell line: 39>\u001b[0;34m()\u001b[0m\n\u001b[1;32m     45\u001b[0m             b[\u001b[38;5;124m'\u001b[39m\u001b[38;5;124mnc\u001b[39m\u001b[38;5;124m'\u001b[39m] \u001b[38;5;241m=\u001b[39m Junc[i][\u001b[38;5;124m'\u001b[39m\u001b[38;5;124mout\u001b[39m\u001b[38;5;124m'\u001b[39m]  \n\u001b[1;32m     46\u001b[0m         \u001b[38;5;28;01melif\u001b[39;00m Junc[i][\u001b[38;5;124m'\u001b[39m\u001b[38;5;124mflag\u001b[39m\u001b[38;5;124m'\u001b[39m] \u001b[38;5;241m==\u001b[39m \u001b[38;5;241m-\u001b[39m\u001b[38;5;241m1\u001b[39m:\n\u001b[0;32m---> 47\u001b[0m             b[\u001b[38;5;124m'\u001b[39m\u001b[38;5;124mnc\u001b[39m\u001b[38;5;124m'\u001b[39m] \u001b[38;5;241m=\u001b[39m \u001b[43mJunc\u001b[49m\u001b[43m[\u001b[49m\u001b[43mi\u001b[49m\u001b[43m]\u001b[49m\u001b[43m[\u001b[49m\u001b[38;5;124;43m'\u001b[39;49m\u001b[38;5;124;43min\u001b[39;49m\u001b[38;5;124;43m'\u001b[39;49m\u001b[43m]\u001b[49m\n\u001b[1;32m     48\u001b[0m         Bou\u001b[38;5;241m.\u001b[39mappend(b)\n\u001b[1;32m     50\u001b[0m BouNum \u001b[38;5;241m=\u001b[39m \u001b[38;5;28mlen\u001b[39m(Bou)\n",
      "\u001b[0;31mValueError\u001b[0m: no field of name in"
     ]
    }
   ],
   "source": [
    "import numpy as np\n",
    "\n",
    "# 初始化参数\n",
    "JuncNum = 0 \n",
    "ChanNum = 0\n",
    "JuncNum1 = 0\n",
    "JuncNum2 = 0\n",
    "UbouNum = 0\n",
    "AbouNum = 0\n",
    "\n",
    "# 读入河段和节点数据\n",
    "with open('/home/louyaxin/1D-Hydrodynamic-Model/input/TOPO.txt') as f:\n",
    "    JuncNum, JuncNum1, JuncNum2 = [int(x) for x in f.readline().split()]  \n",
    "    ChanNum, chanNum1, chanNum2 = [int(x) for x in f.readline().split()]\n",
    "    UbouNum, AbouNum = [int(x) for x in f.readline().split()]\n",
    "\n",
    "    \n",
    "print(f'ChanNum={ChanNum}, chanNum1={chanNum1}, chanNum2={chanNum2}')\n",
    "print(f'JuncNum={JuncNum}, JuncNum1={JuncNum1}, JuncNum2={JuncNum2}')\n",
    "\n",
    "def read_file(f):\n",
    "    chan = [] \n",
    "    for i in range(ChanNum):\n",
    "        no, st, en, name = f.readline().split()\n",
    "        chan.append({'no': int(no), 'st': int(st), 'en': int(en), 'name': name})\n",
    "\n",
    "# 分类节点\n",
    "Junc = np.zeros(JuncNum, dtype=[('no', 'int'), ('flag', 'int')])\n",
    "for i in range(JuncNum1+1, JuncNum2):\n",
    "    Junc[i]['flag'] = 1\n",
    "    print(f'Nodes {i} is downstream boundary point')\n",
    "    \n",
    "for i in range(JuncNum2+1, JuncNum):\n",
    "    Junc[i]['flag'] = -1\n",
    "    print(f'Nodes {i} is upstream boundary point')\n",
    "\n",
    "# 保存边界条件    \n",
    "Bou = []\n",
    "for i in range(JuncNum):\n",
    "    if Junc[i]['flag'] != 0:\n",
    "        b = {}\n",
    "        b['No'] = i\n",
    "        b['flag'] = Junc[i]['flag']\n",
    "        if Junc[i]['flag'] == 1:\n",
    "            b['nc'] = Junc[i]['out']  \n",
    "        elif Junc[i]['flag'] == -1:\n",
    "            b['nc'] = Junc[i]['in']\n",
    "        Bou.append(b)\n",
    "\n",
    "BouNum = len(Bou)\n",
    "print(f'Number of boundary points: {BouNum}') \n",
    "\n",
    "for i in range(BouNum):\n",
    "    print(i, Bou[i]['No'], Bou[i]['flag'], Bou[i]['nc'])\n",
    "\n",
    "print('Done')"
   ]
  },
  {
   "cell_type": "code",
   "execution_count": null,
   "id": "36c3bb71-0877-49fd-8823-667869624d48",
   "metadata": {},
   "outputs": [],
   "source": []
  }
 ],
 "metadata": {
  "kernelspec": {
   "display_name": "Python (tutorial)",
   "language": "python",
   "name": "tutorial"
  },
  "language_info": {
   "codemirror_mode": {
    "name": "ipython",
    "version": 3
   },
   "file_extension": ".py",
   "mimetype": "text/x-python",
   "name": "python",
   "nbconvert_exporter": "python",
   "pygments_lexer": "ipython3",
   "version": "3.9.13"
  }
 },
 "nbformat": 4,
 "nbformat_minor": 5
}
