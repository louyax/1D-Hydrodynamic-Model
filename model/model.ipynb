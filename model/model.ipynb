{
 "cells": [
  {
   "cell_type": "code",
   "execution_count": 121,
   "id": "d1967bc5-b117-45c0-8482-1975dcf33e4f",
   "metadata": {},
   "outputs": [],
   "source": [
    "import numpy as np"
   ]
  },
  {
   "cell_type": "code",
   "execution_count": 122,
   "id": "87a55501-66fb-432a-8e7f-68a8f0dfe55a",
   "metadata": {
    "tags": []
   },
   "outputs": [],
   "source": [
    "# 定义全局常量\n",
    "G = 9.81\n",
    "\n",
    "# 定义Junction节点类\n",
    "class Junction:\n",
    "    def __init__(self):\n",
    "        self.ki = 0 \n",
    "        self.ko = 0\n",
    "        self.flag = 0\n",
    "        self.in_ = np.zeros(10,dtype=int)\n",
    "        self.out = np.zeros(10,dtype=int)\n",
    "        self.z = 0.0\n",
    "        self.dz = 0.0\n",
    "        self.o = 0.0\n",
    "        self.a = 0.0\n",
    "\n",
    "# 定义Channel河段类        \n",
    "class Channel:\n",
    "    def __init__(self):\n",
    "        self.name = ''\n",
    "        self.no = 0\n",
    "        self.st = 0 \n",
    "        self.en = 0\n",
    "        self.m = 0\n",
    "        self.slope = 0.0\n",
    "        self.la = 0.0\n",
    "        self.ds = 0.0\n",
    "        self.s = np.zeros(1000)\n",
    "        self.zb = np.zeros(1000)\n",
    "        # ...省略其它成员变量初始化...\n",
    "        \n",
    "# 定义全局变量        \n",
    "JuncNum = 0 \n",
    "ChanNum = 0\n",
    "ChanM = 100\n",
    "SecN = 1000\n",
    "JuncM = 100\n",
    "JuncN = 10 \n",
    "\n",
    "Chan = [Channel() for i in range(ChanM)] \n",
    "Junc = [Junction() for i in range(JuncM)]"
   ]
  },
  {
   "cell_type": "code",
   "execution_count": 123,
   "id": "2616619a-1eb2-480a-99fd-b60398145e36",
   "metadata": {},
   "outputs": [],
   "source": [
    "# 定义变量\n",
    "m = 1000 \n",
    "theta = 0.75\n",
    "alp = 1.0"
   ]
  },
  {
   "cell_type": "code",
   "execution_count": 124,
   "id": "f866ef93-3d99-409f-9e40-1c76e3d88db9",
   "metadata": {},
   "outputs": [],
   "source": [
    "# 定义文件夹路径\n",
    "folder = '/home/louyaxin/1DHydroDynamicModel/input/'\n",
    "folder1 = '/home/louyaxin/1DHydroDynamicModel/result/'"
   ]
  },
  {
   "cell_type": "code",
   "execution_count": 125,
   "id": "e160ea7c-9aec-43c9-962b-705a74748d9e",
   "metadata": {
    "tags": []
   },
   "outputs": [
    {
     "name": "stdout",
     "output_type": "stream",
     "text": [
      "ChanNum=3, chanNum1=0, chanNum2=1\n",
      "JuncNum=4, JuncNum1=1, JuncNum2=2\n",
      "river star end\n"
     ]
    }
   ],
   "source": [
    "# 打开拓扑文件\n",
    "with open(folder + 'TOPO.txt') as f:\n",
    "    JuncNum, JuncNum1, JuncNum2 = [int(x) for x in f.readline().split()] \n",
    "    ChanNum, chanNum1, chanNum2 = [int(x) for x in f.readline().split()]\n",
    "    UbouNum, AbouNum = [int(x) for x in f.readline().split()]\n",
    "    \n",
    "    print(f'ChanNum={ChanNum}, chanNum1={chanNum1}, chanNum2={chanNum2}') \n",
    "    print(f'JuncNum={JuncNum}, JuncNum1={JuncNum1}, JuncNum2={JuncNum2}')\n",
    "    print('river star end')"
   ]
  },
  {
   "cell_type": "code",
   "execution_count": 126,
   "id": "6dae6513-797b-4809-ab45-0c7f627ce8b4",
   "metadata": {
    "tags": []
   },
   "outputs": [
    {
     "name": "stdout",
     "output_type": "stream",
     "text": [
      "[1, 3]\n",
      "Handle the relationship between river section number and node number:\n"
     ]
    }
   ],
   "source": [
    "# 定义Channel数组\n",
    "Chan = np.zeros(ChanNum, dtype=object)\n",
    "with open(folder + 'TOPO.txt') as f:\n",
    "    for i in range(ChanNum):\n",
    "        Chan[i] = [int(x) for x in f.readline().split()[:4]]\n",
    "    print(Chan[i])\n",
    "    \n",
    "print('Handle the relationship between river section number and node number:')"
   ]
  },
  {
   "cell_type": "code",
   "execution_count": 127,
   "id": "b279f32c-3a6b-4d12-b82f-f5085615dc3e",
   "metadata": {
    "tags": []
   },
   "outputs": [],
   "source": [
    "# 定义河道段类\n",
    "class Channel:\n",
    "    def __init__(self, no, start, end, name):\n",
    "        self.no = no\n",
    "        self.start = start\n",
    "        self.end = end\n",
    "        self.name = name"
   ]
  },
  {
   "cell_type": "code",
   "execution_count": 128,
   "id": "cbf22850-76a5-4d5b-9c5e-20cb5d409833",
   "metadata": {
    "tags": []
   },
   "outputs": [],
   "source": [
    "# 定义节点类  \n",
    "class Node:\n",
    "    def __init__(self):\n",
    "        self.in_channels = []\n",
    "        self.out_channels = []\n",
    "        "
   ]
  },
  {
   "cell_type": "code",
   "execution_count": 129,
   "id": "ec8e713c-8202-4856-b603-6267c30429d0",
   "metadata": {
    "tags": []
   },
   "outputs": [],
   "source": [
    "Chan = []\n",
    "for i in range(ChanNum):\n",
    "    chan = Channel(i, None, None, 'channel_'+str(i))\n",
    "    Chan.append(chan)"
   ]
  },
  {
   "cell_type": "code",
   "execution_count": 130,
   "id": "0cf0d495-01ff-4fa7-aeac-401307abff71",
   "metadata": {
    "tags": []
   },
   "outputs": [],
   "source": [
    "sep = '\\t'\n",
    "def parse_line(line):\n",
    "    global sep\n",
    "    cols = line.split(sep)\n",
    "    if len(cols) > 3:\n",
    "        return cols[:4]\n",
    "    else:\n",
    "        return None"
   ]
  },
  {
   "cell_type": "code",
   "execution_count": 131,
   "id": "5298378c-a893-4526-9db8-23dfa8971e8a",
   "metadata": {
    "tags": []
   },
   "outputs": [
    {
     "name": "stdout",
     "output_type": "stream",
     "text": [
      "Opening file: /home/louyaxin/1DHydroDynamicModel/input/TOPO.txt\n",
      "                \n",
      "\n",
      "1 2 1 NJ_1\n",
      "\n",
      "2 3 1 NJ_2\n",
      "\n",
      "3 4 1 NJ_3\n",
      "\n",
      "Handle the relationship between river section number and node number:\n"
     ]
    }
   ],
   "source": [
    "# 读取每个河道段数据\n",
    "fpath = folder + 'TOPO.txt'\n",
    "\n",
    "print(f'Opening file: {fpath}') \n",
    "\n",
    "with open(fpath) as f:\n",
    "    lines = f.readlines()\n",
    "\n",
    "    for line in lines:\n",
    "        data = parse_line(line)\n",
    "        if data:\n",
    "            no, start, end, name = data\n",
    "            print(no, start, end, name) \n",
    "print('Handle the relationship between river section number and node number:')"
   ]
  },
  {
   "cell_type": "markdown",
   "id": "886cc4d3-2171-41ff-98f2-8d34bf2938e2",
   "metadata": {},
   "source": [
    "## 子程序"
   ]
  },
  {
   "cell_type": "code",
   "execution_count": 132,
   "id": "2efc825c-7a56-41b6-8dd4-d55467f9e6a8",
   "metadata": {
    "tags": []
   },
   "outputs": [],
   "source": [
    "import numpy as np\n",
    "\n",
    "def tran_chan_junc():\n",
    "    print(f'ChanNum={ChanNum}') \n",
    "    print(f'JuncNum={JuncNum}')\n",
    "    \n",
    "    Junc.ki = 1\n",
    "    Junc.ko = 1\n",
    "    print('River section number in out')\n",
    "    \n",
    "    for i in range(ChanNum):\n",
    "        s = Chan[i].st \n",
    "        e = Chan[i].en\n",
    "        \n",
    "        Junc[e].in_list[Junc[e].ki-1] = i\n",
    "        Junc[s].out_list[Junc[s].ko-1] = i\n",
    "        \n",
    "        Junc[e].ki += 1 \n",
    "        Junc[s].ko += 1\n",
    "        \n",
    "        print(f'{Chan[i].no} {s} {e} {Junc[e].ki-1} {Junc[s].ko-1}')\n",
    "        print(f'{Chan[i].no} {s} {e} ki({e})={Junc[e].ki-1} {Junc[s].ko-1}')\n",
    "\n",
    "    Junc.ki -= 1\n",
    "    Junc.ko -= 1\n",
    "    \n",
    "    for i in range(1, JuncNum+1):\n",
    "        print(f'{i} {Junc[i].ki} {Junc[i].ko}')\n",
    "        \n",
    "    print('Statistics of river reach at inflow and outflow nodes')\n",
    "    \n",
    "    for i in range(1, JuncNum+1):\n",
    "        Junc[i].flag = 0\n",
    "        for j in Junc[i].in_list:\n",
    "            pass\n",
    "            \n",
    "        for j in Junc[i].out_list:\n",
    "            pass\n",
    "            \n",
    "    return"
   ]
  },
  {
   "cell_type": "code",
   "execution_count": 133,
   "id": "09508396-2e92-4ace-bc4c-f5d0d384840a",
   "metadata": {
    "tags": []
   },
   "outputs": [],
   "source": [
    "#打开时间步长文件\n",
    "with open(folder + 'TIME.txt') as f:\n",
    "    dt = float(f.readline())  \n",
    "    rdt = float(f.readline())"
   ]
  },
  {
   "cell_type": "code",
   "execution_count": 134,
   "id": "9d1eee74-edbb-494d-a116-5cafd7fff533",
   "metadata": {
    "tags": []
   },
   "outputs": [
    {
     "name": "stdout",
     "output_type": "stream",
     "text": [
      "Nodes 3 is upstream boundary point\n"
     ]
    }
   ],
   "source": [
    "# 根据Junc中的标记分类节点\n",
    "for i in range(JuncNum1+1, JuncNum2):\n",
    "    Junc[i].flag = 1\n",
    "    print(f'Nodes {i} is downstream boundary point')\n",
    "\n",
    "for i in range(JuncNum2+1, JuncNum):\n",
    "    Junc[i].flag = -1    \n",
    "    print(f'Nodes {i} is upstream boundary point')"
   ]
  },
  {
   "cell_type": "code",
   "execution_count": 135,
   "id": "9ed0e8c8-b85e-4737-8696-70e7f3f37975",
   "metadata": {
    "tags": []
   },
   "outputs": [
    {
     "name": "stdout",
     "output_type": "stream",
     "text": [
      "Number of boundary points: 1\n",
      "1 3 -1\n",
      "Done\n"
     ]
    }
   ],
   "source": [
    "Bou = []\n",
    "\n",
    "if JuncNum1 != 0:\n",
    "    j = 1\n",
    "    for i in range(1, JuncNum+1):\n",
    "        if Junc[i].flag != 0:\n",
    "            bou_item = {}\n",
    "            bou_item['No'] = i\n",
    "            bou_item['flag'] = Junc[i].flag\n",
    "            \n",
    "            if Junc[i].flag == 1:\n",
    "                bou_item['nc'] = Junc[i].out_list[0] \n",
    "            #elif Junc[i].flag == -1:\n",
    "              #  bou_item['nc'] = Junc[i].in_list[0]\n",
    "                 \n",
    "            Bou.append(bou_item)\n",
    "            j += 1\n",
    "            \n",
    "if JuncNum1 == 0:\n",
    "    j = 1\n",
    "    for i in range(1, JuncNum+1):\n",
    "        if Junc[i].flag != 0:\n",
    "            bou_item = {}\n",
    "            bou_item['No'] = i\n",
    "            bou_item['flag'] = Junc[i].flag\n",
    "            \n",
    "            if Junc[i].flag == 1:\n",
    "                bou_item['nc'] = Junc[i].out_list[0]  \n",
    "            elif Junc[i].flag == -1:\n",
    "                bou_item['nc'] = Junc[i].in_list[0]\n",
    "            \n",
    "            Bou.append(bou_item)\n",
    "            j += 1\n",
    "            \n",
    "BouNum = j - 1\n",
    "\n",
    "print(f'Number of boundary points: {BouNum}') \n",
    "\n",
    "for i in range(1, BouNum+1):\n",
    "    #print(i, Bou[i-1]['No'], Bou[i-1]['flag'],Bou[i-1]['nc'])\n",
    "    print(i, Bou[i-1]['No'], Bou[i-1]['flag'])\n",
    "    \n",
    "print('Done')"
   ]
  },
  {
   "cell_type": "code",
   "execution_count": 136,
   "id": "5eb0ea2f-bacf-48a0-a892-b16b62bc50bd",
   "metadata": {},
   "outputs": [
    {
     "ename": "TypeError",
     "evalue": "__init__() missing 4 required positional arguments: 'no', 'start', 'end', and 'name'",
     "output_type": "error",
     "traceback": [
      "\u001b[0;31m---------------------------------------------------------------------------\u001b[0m",
      "\u001b[0;31mTypeError\u001b[0m                                 Traceback (most recent call last)",
      "Cell \u001b[0;32mIn[136], line 10\u001b[0m\n\u001b[1;32m      8\u001b[0m \u001b[38;5;28;01mwith\u001b[39;00m \u001b[38;5;28mopen\u001b[39m(folder \u001b[38;5;241m+\u001b[39m \u001b[38;5;124m'\u001b[39m\u001b[38;5;124mSECTION.txt\u001b[39m\u001b[38;5;124m'\u001b[39m) \u001b[38;5;28;01mas\u001b[39;00m f:\n\u001b[1;32m      9\u001b[0m     \u001b[38;5;28;01mfor\u001b[39;00m j \u001b[38;5;129;01min\u001b[39;00m \u001b[38;5;28mrange\u001b[39m(\u001b[38;5;241m0\u001b[39m,ChanNum):\n\u001b[0;32m---> 10\u001b[0m         Chan[j] \u001b[38;5;241m=\u001b[39m \u001b[43mChannel\u001b[49m\u001b[43m(\u001b[49m\u001b[43m)\u001b[49m  \n\u001b[1;32m     11\u001b[0m         \u001b[38;5;28msum\u001b[39m \u001b[38;5;241m=\u001b[39m \u001b[38;5;241m0\u001b[39m\n\u001b[1;32m     12\u001b[0m         Chan[j]\u001b[38;5;241m.\u001b[39mname, nsb[j], nse[j] \u001b[38;5;241m=\u001b[39m f\u001b[38;5;241m.\u001b[39mreadline()\u001b[38;5;241m.\u001b[39msplit()\n",
      "\u001b[0;31mTypeError\u001b[0m: __init__() missing 4 required positional arguments: 'no', 'start', 'end', and 'name'"
     ]
    }
   ],
   "source": [
    "# 读取河段属性\n",
    "\n",
    "Chan = [[] for _ in range(ChanNum)]\n",
    "nsb = [0] * ChanNum  \n",
    "nse = [0] * ChanNum\n",
    "ccc = [0] * ChanNum\n",
    "\n",
    "with open(folder + 'SECTION.txt') as f:\n",
    "    for j in range(0,ChanNum):\n",
    "        Chan[j] = Channel()  \n",
    "        sum = 0\n",
    "        Chan[j].name, nsb[j], nse[j] = f.readline().split()\n",
    "        nsb[j] = int(nsb[j])\n",
    "        nse[j] = int(nse[j])\n",
    "        \n",
    "        for i in range(nsb[j], nse[j]):\n",
    "            Chan[j].dx[i] = float(f.readline().split()[1])\n",
    "            sum += Chan[j].dx[i]\n",
    "\n",
    "        ccc[j] = sum"
   ]
  },
  {
   "cell_type": "code",
   "execution_count": 137,
   "id": "233f1aee-ff70-41e0-bbe1-fb835d960305",
   "metadata": {},
   "outputs": [
    {
     "ename": "ValueError",
     "evalue": "not enough values to unpack (expected 3, got 1)",
     "output_type": "error",
     "traceback": [
      "\u001b[0;31m---------------------------------------------------------------------------\u001b[0m",
      "\u001b[0;31mValueError\u001b[0m                                Traceback (most recent call last)",
      "Cell \u001b[0;32mIn[137], line 4\u001b[0m\n\u001b[1;32m      2\u001b[0m \u001b[38;5;28;01mfor\u001b[39;00m j \u001b[38;5;129;01min\u001b[39;00m \u001b[38;5;28mrange\u001b[39m(\u001b[38;5;241m0\u001b[39m, ChanNum):\n\u001b[1;32m      3\u001b[0m     \u001b[38;5;28msum\u001b[39m \u001b[38;5;241m=\u001b[39m \u001b[38;5;241m0\u001b[39m\n\u001b[0;32m----> 4\u001b[0m     Chan[j]\u001b[38;5;241m.\u001b[39mname, nsb[j], nse[j] \u001b[38;5;241m=\u001b[39m f\u001b[38;5;241m.\u001b[39mreadline()\u001b[38;5;241m.\u001b[39msplit()\n\u001b[1;32m      5\u001b[0m     \u001b[38;5;28mprint\u001b[39m(\u001b[38;5;124mf\u001b[39m\u001b[38;5;124m'\u001b[39m\u001b[38;5;124mreach-section \u001b[39m\u001b[38;5;132;01m{\u001b[39;00mChan[j]\u001b[38;5;241m.\u001b[39mname\u001b[38;5;132;01m}\u001b[39;00m\u001b[38;5;124m \u001b[39m\u001b[38;5;132;01m{\u001b[39;00mj\u001b[38;5;132;01m}\u001b[39;00m\u001b[38;5;124m \u001b[39m\u001b[38;5;132;01m{\u001b[39;00mnsb[j]\u001b[38;5;132;01m}\u001b[39;00m\u001b[38;5;124m \u001b[39m\u001b[38;5;132;01m{\u001b[39;00mnse[j]\u001b[38;5;132;01m}\u001b[39;00m\u001b[38;5;124m'\u001b[39m)\n\u001b[1;32m      7\u001b[0m     \u001b[38;5;28;01mfor\u001b[39;00m i \u001b[38;5;129;01min\u001b[39;00m \u001b[38;5;28mrange\u001b[39m(nsb[j], nse[j]\u001b[38;5;241m-\u001b[39m\u001b[38;5;241m1\u001b[39m):\n",
      "\u001b[0;31mValueError\u001b[0m: not enough values to unpack (expected 3, got 1)"
     ]
    }
   ],
   "source": [
    "with open(folder + 'SECTION.txt') as f:\n",
    "    for j in range(0, ChanNum):\n",
    "        sum = 0\n",
    "        Chan[j].name, nsb[j], nse[j] = f.readline().split()\n",
    "        print(f'reach-section {Chan[j].name} {j} {nsb[j]} {nse[j]}')\n",
    "        \n",
    "        for i in range(nsb[j], nse[j]-1):\n",
    "            kk, Chan[j].dx[i] = f.readline().split()\n",
    "            sum += Chan[j].dx[i]\n",
    "            \n",
    "        ccc[j] = sum"
   ]
  },
  {
   "cell_type": "code",
   "execution_count": 138,
   "id": "fda4c8a7-4869-4c95-bc58-84ae1483a95e",
   "metadata": {},
   "outputs": [],
   "source": [
    "# 读取曼宁系数\n",
    "with open(folder + 'MANNING.txt') as f:\n",
    "    for j in range(1, ChanNum):\n",
    "        for i in range(nsb[j], nse[j]):\n",
    "            Chan[j].rrn[i], Chan[j].rn[i], Chan[j].lrn[i], Chan[j].mrn[i], Chan[j].hrn[i] = f.readline().split()"
   ]
  },
  {
   "cell_type": "code",
   "execution_count": 139,
   "id": "d4e6aa2b-87e5-4077-b9cb-7e90bed4d0b5",
   "metadata": {},
   "outputs": [
    {
     "name": "stdout",
     "output_type": "stream",
     "text": [
      "Terrain condition input completed\n"
     ]
    }
   ],
   "source": [
    "# 读取河床高程\n",
    "se = np.zeros((ChanNum, 2, SecN, SecN))\n",
    "with open(folder + 'BED_CON.txt') as f, open(folder1 + 'zb.txt', 'w') as f1:\n",
    "    sno = int(f.readline())\n",
    "    \n",
    "    for j in range(1, ChanNum):\n",
    "        ri, knum1 = f.readline().split()\n",
    "        \n",
    "        for i in range(nsb[j], nse[j]):\n",
    "            knum, sno = f.readline().split()\n",
    "            \n",
    "            for k in range(1, sno):\n",
    "                se[j,1,i,k], se[j,2,i,k] = f.readline().split()\n",
    "                \n",
    "            print(f\"Number of cross-section layers {j} {i}\") \n",
    "            Chan[j].zb[i] = min(se[j,2,i,0:sno])\n",
    "            print(se[j,2,i,0:sno])\n",
    "            f1.write(f\"{j} {i} {Chan[j].zb[i]}\\n\")\n",
    "            \n",
    "print('Terrain condition input completed')"
   ]
  },
  {
   "cell_type": "code",
   "execution_count": 140,
   "id": "54b618fd-fec5-408e-adb2-f58b1eb69910",
   "metadata": {},
   "outputs": [
    {
     "name": "stdout",
     "output_type": "stream",
     "text": [
      "Upstream boundary condition loaded\n"
     ]
    }
   ],
   "source": [
    "# 打开上游边界文件\n",
    "with open(folder + 'BOUNDARY_UP.txt') as f:\n",
    "    for j in range(1, UbouNum):\n",
    "        # 读取文件名\n",
    "        filename = f.readline().strip()\n",
    "        \n",
    "        # 打开具体的数据文件\n",
    "        with open(folder + filename + '.txt') as f2:\n",
    "        \n",
    "            i = 1\n",
    "            flag = 0\n",
    "            \n",
    "            # 读取时间和高程数据,直到遇到负时间结束\n",
    "            while flag == 0:\n",
    "                t, y = map(float, f2.readline().split())\n",
    "                Bou[j].t[i-1] = t \n",
    "                Bou[j].y[i-1] = y\n",
    "                \n",
    "                if t < 0:\n",
    "                    flag = 1\n",
    "                else:\n",
    "                    i += 1\n",
    "                    \n",
    "            # 关闭文件\n",
    "            f2.close()\n",
    "            \n",
    "        # 记录数据条数    \n",
    "        Bou[j].m = i - 1\n",
    "        print(f'm2={Bou[j].m}')\n",
    "        \n",
    "print('Upstream boundary condition loaded')"
   ]
  },
  {
   "cell_type": "code",
   "execution_count": null,
   "id": "ad78342e-504b-480f-a089-ae2542a0d2dc",
   "metadata": {},
   "outputs": [],
   "source": []
  }
 ],
 "metadata": {
  "kernelspec": {
   "display_name": "Python 3 (ipykernel)",
   "language": "python",
   "name": "python3"
  },
  "language_info": {
   "codemirror_mode": {
    "name": "ipython",
    "version": 3
   },
   "file_extension": ".py",
   "mimetype": "text/x-python",
   "name": "python",
   "nbconvert_exporter": "python",
   "pygments_lexer": "ipython3",
   "version": "3.9.13"
  }
 },
 "nbformat": 4,
 "nbformat_minor": 5
}
