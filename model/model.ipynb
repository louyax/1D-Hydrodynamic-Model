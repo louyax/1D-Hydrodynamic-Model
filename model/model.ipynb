{
 "cells": [
  {
   "cell_type": "code",
   "execution_count": 1,
   "id": "d1967bc5-b117-45c0-8482-1975dcf33e4f",
   "metadata": {},
   "outputs": [],
   "source": [
    "import numpy as np"
   ]
  },
  {
   "cell_type": "code",
   "execution_count": 2,
   "id": "2616619a-1eb2-480a-99fd-b60398145e36",
   "metadata": {},
   "outputs": [],
   "source": [
    "# 定义变量\n",
    "m = 1000 \n",
    "theta = 0.75\n",
    "alp = 1.0"
   ]
  },
  {
   "cell_type": "code",
   "execution_count": 3,
   "id": "f866ef93-3d99-409f-9e40-1c76e3d88db9",
   "metadata": {},
   "outputs": [],
   "source": [
    "# 定义文件夹路径\n",
    "folder = '/home/louyaxin/1D-Hydrodynamic-Model/input/'\n",
    "folder2 = 'result/'"
   ]
  },
  {
   "cell_type": "code",
   "execution_count": 4,
   "id": "e57b2322-9d08-4565-bbdc-16e8322b9ece",
   "metadata": {},
   "outputs": [],
   "source": [
    "# 打开拓扑文件\n",
    "with open(folder + 'TOPO.txt') as f:\n",
    "    JuncNum, JuncNum1, JuncNum2 = [int(x) for x in f.readline().split()] \n",
    "    ChanNum, chanNum1, chanNum2 = [int(x) for x in f.readline().split()]\n",
    "    UbouNum, AbouNum = [int(x) for x in f.readline().split()]"
   ]
  },
  {
   "cell_type": "code",
   "execution_count": 5,
   "id": "584ef319-46f6-447e-b2c9-49e76db736f3",
   "metadata": {
    "tags": []
   },
   "outputs": [
    {
     "name": "stdout",
     "output_type": "stream",
     "text": [
      "ChanNum=3, chanNum1=0, chanNum2=1\n",
      "JuncNum=4, JuncNum1=1, JuncNum2=2\n",
      "river star end\n"
     ]
    }
   ],
   "source": [
    "print(f'ChanNum={ChanNum}, chanNum1={chanNum1}, chanNum2={chanNum2}') \n",
    "print(f'JuncNum={JuncNum}, JuncNum1={JuncNum1}, JuncNum2={JuncNum2}')\n",
    "print('river star end')"
   ]
  },
  {
   "cell_type": "code",
   "execution_count": 6,
   "id": "09508396-2e92-4ace-bc4c-f5d0d384840a",
   "metadata": {
    "tags": []
   },
   "outputs": [],
   "source": [
    "#打开时间步长文件\n",
    "with open(folder + 'TIME.txt') as f:\n",
    "    dt = float(f.readline())  \n",
    "    rdt = float(f.readline())"
   ]
  },
  {
   "cell_type": "code",
   "execution_count": 7,
   "id": "cd2caafa-0cf1-4c82-ab85-c775f0cf9259",
   "metadata": {
    "tags": []
   },
   "outputs": [
    {
     "name": "stdout",
     "output_type": "stream",
     "text": [
      "Nodes 3 is upstream boundary point\n"
     ]
    }
   ],
   "source": [
    "def read_file(f):\n",
    "    chan = [] \n",
    "    for i in range(ChanNum):\n",
    "        no, st, en, name = f.readline().split()\n",
    "        chan.append({'no': int(no), 'st': int(st), 'en': int(en), 'name': name})\n",
    "\n",
    "# 分类节点\n",
    "Junc = np.zeros(JuncNum, dtype=[('no', 'int'), ('flag', 'int')])\n",
    "for i in range(JuncNum1+1, JuncNum2):\n",
    "    Junc[i]['flag'] = 1\n",
    "    print(f'Nodes {i} is downstream boundary point')\n",
    "    \n",
    "for i in range(JuncNum2+1, JuncNum):\n",
    "    Junc[i]['flag'] = -1\n",
    "    print(f'Nodes {i} is upstream boundary point')"
   ]
  },
  {
   "cell_type": "code",
   "execution_count": 81,
   "id": "69636e1c-1551-4487-a49d-1adeeb1b0b3e",
   "metadata": {
    "tags": []
   },
   "outputs": [],
   "source": []
  },
  {
   "cell_type": "code",
   "execution_count": null,
   "id": "1d28c1a7-27bf-457f-aaa5-b2a4dd74c93e",
   "metadata": {},
   "outputs": [],
   "source": []
  }
 ],
 "metadata": {
  "kernelspec": {
   "display_name": "Python (tutorial)",
   "language": "python",
   "name": "tutorial"
  },
  "language_info": {
   "codemirror_mode": {
    "name": "ipython",
    "version": 3
   },
   "file_extension": ".py",
   "mimetype": "text/x-python",
   "name": "python",
   "nbconvert_exporter": "python",
   "pygments_lexer": "ipython3",
   "version": "3.9.13"
  }
 },
 "nbformat": 4,
 "nbformat_minor": 5
}
