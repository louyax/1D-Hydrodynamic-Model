{
 "cells": [
  {
   "cell_type": "code",
   "execution_count": 15,
   "id": "d1967bc5-b117-45c0-8482-1975dcf33e4f",
   "metadata": {},
   "outputs": [],
   "source": [
    "import numpy as np"
   ]
  },
  {
   "cell_type": "code",
   "execution_count": 16,
   "id": "2616619a-1eb2-480a-99fd-b60398145e36",
   "metadata": {},
   "outputs": [],
   "source": [
    "# 定义变量\n",
    "m = 1000 \n",
    "theta = 0.75\n",
    "alp = 1.0"
   ]
  },
  {
   "cell_type": "code",
   "execution_count": 17,
   "id": "f866ef93-3d99-409f-9e40-1c76e3d88db9",
   "metadata": {},
   "outputs": [],
   "source": [
    "# 定义文件夹路径\n",
    "folder = '/home/louyaxin/1D-Hydrodynamic-Model/input/'\n",
    "folder2 = 'result/'"
   ]
  },
  {
   "cell_type": "code",
   "execution_count": 18,
   "id": "e57b2322-9d08-4565-bbdc-16e8322b9ece",
   "metadata": {},
   "outputs": [],
   "source": [
    "# 打开拓扑文件\n",
    "with open(folder + 'TOPO.txt') as f:\n",
    "    JuncNum, JuncNum1, JuncNum2 = [int(x) for x in f.readline().split()] \n",
    "    ChanNum, chanNum1, chanNum2 = [int(x) for x in f.readline().split()]\n",
    "    UbouNum, AbouNum = [int(x) for x in f.readline().split()]\n"
   ]
  },
  {
   "cell_type": "code",
   "execution_count": 19,
   "id": "584ef319-46f6-447e-b2c9-49e76db736f3",
   "metadata": {
    "tags": []
   },
   "outputs": [
    {
     "name": "stdout",
     "output_type": "stream",
     "text": [
      "ChanNum=3, chanNum1=0, chanNum2=1\n",
      "JuncNum=4, JuncNum1=1, JuncNum2=2\n",
      "river star end\n"
     ]
    }
   ],
   "source": [
    "print(f'ChanNum={ChanNum}, chanNum1={chanNum1}, chanNum2={chanNum2}') \n",
    "print(f'JuncNum={JuncNum}, JuncNum1={JuncNum1}, JuncNum2={JuncNum2}')\n",
    "print('river star end')"
   ]
  },
  {
   "cell_type": "code",
   "execution_count": 20,
   "id": "b279f32c-3a6b-4d12-b82f-f5085615dc3e",
   "metadata": {
    "tags": []
   },
   "outputs": [],
   "source": [
    "# 定义河道段类\n",
    "class Channel:\n",
    "    def __init__(self, no, start_node, end_node, name):\n",
    "        self.no = no\n",
    "        self.start_node = start_node\n",
    "        self.end_node = end_node\n",
    "        self.name = name"
   ]
  },
  {
   "cell_type": "code",
   "execution_count": 21,
   "id": "cbf22850-76a5-4d5b-9c5e-20cb5d409833",
   "metadata": {
    "tags": []
   },
   "outputs": [],
   "source": [
    "# 定义节点类  \n",
    "class Node:\n",
    "    def __init__(self):\n",
    "        self.in_channels = []\n",
    "        self.out_channels = []\n",
    "        "
   ]
  },
  {
   "cell_type": "code",
   "execution_count": 22,
   "id": "ec8e713c-8202-4856-b603-6267c30429d0",
   "metadata": {
    "tags": []
   },
   "outputs": [],
   "source": [
    "Chan = []\n",
    "for i in range(ChanNum):\n",
    "    chan = Channel(i, None, None, 'channel_'+str(i))\n",
    "    Chan.append(chan)"
   ]
  },
  {
   "cell_type": "code",
   "execution_count": 23,
   "id": "0cf0d495-01ff-4fa7-aeac-401307abff71",
   "metadata": {
    "tags": []
   },
   "outputs": [],
   "source": [
    "sep = '\\t'\n",
    "def parse_line(line):\n",
    "    global sep\n",
    "    cols = line.split(sep)\n",
    "    if len(cols) > 3:\n",
    "        return cols[:4]\n",
    "    else:\n",
    "        return None"
   ]
  },
  {
   "cell_type": "code",
   "execution_count": 24,
   "id": "5298378c-a893-4526-9db8-23dfa8971e8a",
   "metadata": {
    "tags": []
   },
   "outputs": [
    {
     "name": "stdout",
     "output_type": "stream",
     "text": [
      "Opening file: /home/louyaxin/1D-Hydrodynamic-Model/input/TOPO.txt\n",
      "                \n",
      "\n",
      "1 2 1 NJ_1\n",
      "\n",
      "2 3 1 NJ_2\n",
      "\n",
      "3 4 1 NJ_3\n",
      "\n"
     ]
    }
   ],
   "source": [
    "# 读取每个河道段数据\n",
    "fpath = folder + 'TOPO.txt'\n",
    "\n",
    "print(f'Opening file: {fpath}') \n",
    "\n",
    "with open(fpath) as f:\n",
    "    lines = f.readlines()\n",
    "\n",
    "    for line in lines:\n",
    "        data = parse_line(line)\n",
    "        if data:\n",
    "            no, start, end, name = data\n",
    "            print(no, start, end, name) \n"
   ]
  },
  {
   "cell_type": "code",
   "execution_count": 30,
   "id": "69636e1c-1551-4487-a49d-1adeeb1b0b3e",
   "metadata": {
    "tags": []
   },
   "outputs": [
    {
     "name": "stdout",
     "output_type": "stream",
     "text": [
      "0 0\n",
      "0 0\n",
      "0 0\n",
      "0 0\n"
     ]
    }
   ],
   "source": [
    "# 建立节点类\n",
    "class Node:\n",
    "    def __init__(self):\n",
    "        self.in_channels = []\n",
    "        self.out_channels = []\n",
    "\n",
    "# 建立河道段类  \n",
    "class Channel:\n",
    "    def __init__(self, start_node, end_node):\n",
    "        self.start_node = start_node\n",
    "        self.end_node = end_node\n",
    "\n",
    "# 主程序\n",
    "for i in range(len(channels)):\n",
    "    start_node = channels[i].start_node\n",
    "    end_node = channels[i].end_node\n",
    "\n",
    "    end_node.in_channels.append(i)\n",
    "    start_node.out_channels.append(i)\n",
    "\n",
    "# 统计\n",
    "for node in nodes:\n",
    "    print(len(node.in_channels), len(node.out_channels)) "
   ]
  },
  {
   "cell_type": "code",
   "execution_count": 26,
   "id": "4fdf96af-059f-4f52-a5ed-299d967fcad0",
   "metadata": {},
   "outputs": [],
   "source": [
    "# 建立河道段和节点的对应关系  \n",
    "channels = []\n",
    "nodes = [Node() for i in range(JuncNum)]\n",
    "for channel in channels:\n",
    "    start_node = nodes[channel.start_node - 1]\n",
    "    end_node = nodes[channel.end_node - 1]\n",
    "\n",
    "    end_node.in_channels.append(channel.no)\n",
    "    start_node.out_channels.append(channel.no) "
   ]
  },
  {
   "cell_type": "code",
   "execution_count": 27,
   "id": "bbf22e9d-1815-4bd1-b1f3-09fc629ac3af",
   "metadata": {},
   "outputs": [
    {
     "name": "stdout",
     "output_type": "stream",
     "text": [
      "1 0 0\n",
      "2 0 0\n",
      "3 0 0\n",
      "4 0 0\n"
     ]
    }
   ],
   "source": [
    "# 输出节点的入出流统计\n",
    "for i, node in enumerate(nodes):\n",
    "    print(i+1, len(node.in_channels), len(node.out_channels))"
   ]
  },
  {
   "cell_type": "code",
   "execution_count": 28,
   "id": "09508396-2e92-4ace-bc4c-f5d0d384840a",
   "metadata": {
    "tags": []
   },
   "outputs": [],
   "source": [
    "#打开时间步长文件\n",
    "with open(folder + 'TIME.txt') as f:\n",
    "    dt = float(f.readline())  \n",
    "    rdt = float(f.readline())"
   ]
  },
  {
   "cell_type": "code",
   "execution_count": 29,
   "id": "cd2caafa-0cf1-4c82-ab85-c775f0cf9259",
   "metadata": {
    "tags": []
   },
   "outputs": [
    {
     "name": "stdout",
     "output_type": "stream",
     "text": [
      "Nodes 3 is upstream boundary point\n"
     ]
    }
   ],
   "source": [
    "def read_file(f):\n",
    "    chan = [] \n",
    "    for i in range(ChanNum):\n",
    "        no, st, en, name = f.readline().split()\n",
    "        chan.append({'no': int(no), 'st': int(st), 'en': int(en), 'name': name})\n",
    "\n",
    "# 分类节点\n",
    "Junc = np.zeros(JuncNum, dtype=[('no', 'int'), ('flag', 'int')])\n",
    "for i in range(JuncNum1+1, JuncNum2):\n",
    "    Junc[i]['flag'] = 1\n",
    "    print(f'Nodes {i} is downstream boundary point')\n",
    "    \n",
    "for i in range(JuncNum2+1, JuncNum):\n",
    "    Junc[i]['flag'] = -1\n",
    "    print(f'Nodes {i} is upstream boundary point')"
   ]
  },
  {
   "cell_type": "code",
   "execution_count": null,
   "id": "1d28c1a7-27bf-457f-aaa5-b2a4dd74c93e",
   "metadata": {},
   "outputs": [],
   "source": []
  }
 ],
 "metadata": {
  "kernelspec": {
   "display_name": "Python (tutorial)",
   "language": "python",
   "name": "tutorial"
  },
  "language_info": {
   "codemirror_mode": {
    "name": "ipython",
    "version": 3
   },
   "file_extension": ".py",
   "mimetype": "text/x-python",
   "name": "python",
   "nbconvert_exporter": "python",
   "pygments_lexer": "ipython3",
   "version": "3.9.13"
  }
 },
 "nbformat": 4,
 "nbformat_minor": 5
}
