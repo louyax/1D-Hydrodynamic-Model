{
 "cells": [
  {
   "cell_type": "code",
   "execution_count": 21,
   "id": "d1967bc5-b117-45c0-8482-1975dcf33e4f",
   "metadata": {},
   "outputs": [],
   "source": [
    "import numpy as np"
   ]
  },
  {
   "cell_type": "code",
   "execution_count": 22,
   "id": "87a55501-66fb-432a-8e7f-68a8f0dfe55a",
   "metadata": {
    "tags": []
   },
   "outputs": [],
   "source": [
    "# 定义全局常量\n",
    "G = 9.81\n",
    "\n",
    "# 定义Junction节点类\n",
    "class Junction:\n",
    "    def __init__(self):\n",
    "        self.ki = 0 \n",
    "        self.ko = 0\n",
    "        self.flag = 0\n",
    "        self.in_ = np.zeros(10,dtype=int)\n",
    "        self.out = np.zeros(10,dtype=int)\n",
    "        self.z = 0.0\n",
    "        self.dz = 0.0\n",
    "        self.o = 0.0\n",
    "        self.a = 0.0\n",
    "\n",
    "# 定义Channel河段类        \n",
    "class Channel:\n",
    "    def __init__(self):\n",
    "        self.name = ''\n",
    "        self.no = 0\n",
    "        self.st = 0 \n",
    "        self.en = 0\n",
    "        self.m = 0\n",
    "        self.slope = 0.0\n",
    "        self.la = 0.0\n",
    "        self.ds = 0.0\n",
    "        self.s = np.zeros(1000)\n",
    "        self.zb = np.zeros(1000)\n",
    "        # ...省略其它成员变量初始化...\n",
    "        \n",
    "# 定义全局变量        \n",
    "JuncNum = 0 \n",
    "ChanNum = 0\n",
    "ChanM = 100\n",
    "SecN = 1000\n",
    "JuncM = 100\n",
    "JuncN = 10 \n",
    "\n",
    "Chan = [Channel() for i in range(ChanM)] \n",
    "Junc = [Junction() for i in range(JuncM)]"
   ]
  },
  {
   "cell_type": "code",
   "execution_count": 23,
   "id": "2616619a-1eb2-480a-99fd-b60398145e36",
   "metadata": {},
   "outputs": [],
   "source": [
    "# 定义变量\n",
    "m = 1000 \n",
    "theta = 0.75\n",
    "alp = 1.0"
   ]
  },
  {
   "cell_type": "code",
   "execution_count": 24,
   "id": "f866ef93-3d99-409f-9e40-1c76e3d88db9",
   "metadata": {},
   "outputs": [],
   "source": [
    "# 定义文件夹路径\n",
    "folder = '/home/louyaxin/1DHydroDynamicModel/input/'\n",
    "folder2 = 'result/'"
   ]
  },
  {
   "cell_type": "code",
   "execution_count": 25,
   "id": "e160ea7c-9aec-43c9-962b-705a74748d9e",
   "metadata": {
    "tags": []
   },
   "outputs": [
    {
     "name": "stdout",
     "output_type": "stream",
     "text": [
      "ChanNum=3, chanNum1=0, chanNum2=1\n",
      "JuncNum=4, JuncNum1=1, JuncNum2=2\n",
      "river star end\n"
     ]
    }
   ],
   "source": [
    "# 打开拓扑文件\n",
    "with open(folder + 'TOPO.txt') as f:\n",
    "    JuncNum, JuncNum1, JuncNum2 = [int(x) for x in f.readline().split()] \n",
    "    ChanNum, chanNum1, chanNum2 = [int(x) for x in f.readline().split()]\n",
    "    UbouNum, AbouNum = [int(x) for x in f.readline().split()]\n",
    "    \n",
    "    print(f'ChanNum={ChanNum}, chanNum1={chanNum1}, chanNum2={chanNum2}') \n",
    "    print(f'JuncNum={JuncNum}, JuncNum1={JuncNum1}, JuncNum2={JuncNum2}')\n",
    "    print('river star end')"
   ]
  },
  {
   "cell_type": "code",
   "execution_count": 30,
   "id": "6dae6513-797b-4809-ab45-0c7f627ce8b4",
   "metadata": {
    "tags": []
   },
   "outputs": [
    {
     "name": "stdout",
     "output_type": "stream",
     "text": [
      "[1, 3]\n",
      "Handle the relationship between river section number and node number:\n"
     ]
    }
   ],
   "source": [
    "# 定义Channel数组\n",
    "Chan = np.zeros(ChanNum, dtype=object)\n",
    "with open(folder + 'TOPO.txt') as f:\n",
    "    for i in range(ChanNum):\n",
    "        Chan[i] = [int(x) for x in f.readline().split()[:4]]\n",
    "    print(Chan[i])\n",
    "    \n",
    "print('Handle the relationship between river section number and node number:')"
   ]
  },
  {
   "cell_type": "code",
   "execution_count": 31,
   "id": "b279f32c-3a6b-4d12-b82f-f5085615dc3e",
   "metadata": {
    "tags": []
   },
   "outputs": [],
   "source": [
    "# 定义河道段类\n",
    "class Channel:\n",
    "    def __init__(self, no, start_node, end_node, name):\n",
    "        self.no = no\n",
    "        self.start_node = start_node\n",
    "        self.end_node = end_node\n",
    "        self.name = name"
   ]
  },
  {
   "cell_type": "code",
   "execution_count": 32,
   "id": "cbf22850-76a5-4d5b-9c5e-20cb5d409833",
   "metadata": {
    "tags": []
   },
   "outputs": [],
   "source": [
    "# 定义节点类  \n",
    "class Node:\n",
    "    def __init__(self):\n",
    "        self.in_channels = []\n",
    "        self.out_channels = []\n",
    "        "
   ]
  },
  {
   "cell_type": "code",
   "execution_count": 33,
   "id": "ec8e713c-8202-4856-b603-6267c30429d0",
   "metadata": {
    "tags": []
   },
   "outputs": [],
   "source": [
    "Chan = []\n",
    "for i in range(ChanNum):\n",
    "    chan = Channel(i, None, None, 'channel_'+str(i))\n",
    "    Chan.append(chan)"
   ]
  },
  {
   "cell_type": "code",
   "execution_count": 34,
   "id": "0cf0d495-01ff-4fa7-aeac-401307abff71",
   "metadata": {
    "tags": []
   },
   "outputs": [],
   "source": [
    "sep = '\\t'\n",
    "def parse_line(line):\n",
    "    global sep\n",
    "    cols = line.split(sep)\n",
    "    if len(cols) > 3:\n",
    "        return cols[:4]\n",
    "    else:\n",
    "        return None"
   ]
  },
  {
   "cell_type": "code",
   "execution_count": 36,
   "id": "5298378c-a893-4526-9db8-23dfa8971e8a",
   "metadata": {
    "tags": []
   },
   "outputs": [
    {
     "name": "stdout",
     "output_type": "stream",
     "text": [
      "Opening file: /home/louyaxin/1DHydroDynamicModel/input/TOPO.txt\n",
      "                \n",
      "\n",
      "1 2 1 NJ_1\n",
      "\n",
      "2 3 1 NJ_2\n",
      "\n",
      "3 4 1 NJ_3\n",
      "\n",
      "Handle the relationship between river section number and node number:\n"
     ]
    }
   ],
   "source": [
    "# 读取每个河道段数据\n",
    "fpath = folder + 'TOPO.txt'\n",
    "\n",
    "print(f'Opening file: {fpath}') \n",
    "\n",
    "with open(fpath) as f:\n",
    "    lines = f.readlines()\n",
    "\n",
    "    for line in lines:\n",
    "        data = parse_line(line)\n",
    "        if data:\n",
    "            no, start, end, name = data\n",
    "            print(no, start, end, name) \n",
    "print('Handle the relationship between river section number and node number:')"
   ]
  },
  {
   "cell_type": "code",
   "execution_count": null,
   "id": "bbf22e9d-1815-4bd1-b1f3-09fc629ac3af",
   "metadata": {},
   "outputs": [],
   "source": []
  },
  {
   "cell_type": "code",
   "execution_count": 47,
   "id": "09508396-2e92-4ace-bc4c-f5d0d384840a",
   "metadata": {
    "tags": []
   },
   "outputs": [],
   "source": [
    "#打开时间步长文件\n",
    "with open(folder + 'TIME.txt') as f:\n",
    "    dt = float(f.readline())  \n",
    "    rdt = float(f.readline())"
   ]
  },
  {
   "cell_type": "code",
   "execution_count": 56,
   "id": "ffae3fa7-4b42-4b27-a0f0-56d9cf321c69",
   "metadata": {
    "tags": []
   },
   "outputs": [
    {
     "name": "stdout",
     "output_type": "stream",
     "text": [
      "Nodes 3 is upstream boundary point\n"
     ]
    },
    {
     "ename": "KeyError",
     "evalue": "1",
     "output_type": "error",
     "traceback": [
      "\u001b[0;31m---------------------------------------------------------------------------\u001b[0m",
      "\u001b[0;31mKeyError\u001b[0m                                  Traceback (most recent call last)",
      "Cell \u001b[0;32mIn[56], line 21\u001b[0m\n\u001b[1;32m     19\u001b[0m \u001b[38;5;28;01mfor\u001b[39;00m i \u001b[38;5;129;01min\u001b[39;00m \u001b[38;5;28mrange\u001b[39m(\u001b[38;5;241m1\u001b[39m, JuncNum):\n\u001b[1;32m     20\u001b[0m     \u001b[38;5;28;01mif\u001b[39;00m Junc[i][\u001b[38;5;124m'\u001b[39m\u001b[38;5;124mflag\u001b[39m\u001b[38;5;124m'\u001b[39m] \u001b[38;5;241m!=\u001b[39m \u001b[38;5;241m0\u001b[39m:\n\u001b[0;32m---> 21\u001b[0m         \u001b[43mBou\u001b[49m\u001b[43m[\u001b[49m\u001b[43mj\u001b[49m\u001b[43m]\u001b[49m[\u001b[38;5;124m'\u001b[39m\u001b[38;5;124mNo\u001b[39m\u001b[38;5;124m'\u001b[39m] \u001b[38;5;241m=\u001b[39m i\n\u001b[1;32m     22\u001b[0m         Bou[j][\u001b[38;5;124m'\u001b[39m\u001b[38;5;124mflag\u001b[39m\u001b[38;5;124m'\u001b[39m] \u001b[38;5;241m=\u001b[39m Junc[i][\u001b[38;5;124m'\u001b[39m\u001b[38;5;124mflag\u001b[39m\u001b[38;5;124m'\u001b[39m]\n\u001b[1;32m     24\u001b[0m         \u001b[38;5;28;01mif\u001b[39;00m Junc[i][\u001b[38;5;124m'\u001b[39m\u001b[38;5;124mflag\u001b[39m\u001b[38;5;124m'\u001b[39m] \u001b[38;5;241m==\u001b[39m \u001b[38;5;241m1\u001b[39m:\n",
      "\u001b[0;31mKeyError\u001b[0m: 1"
     ]
    }
   ],
   "source": [
    "# 打开时间文件\n",
    "with open(folder + 'TIME.txt') as f:\n",
    "    dt = float(f.readline())  \n",
    "    rdt = float(f.readline())\n",
    "\n",
    "# 根据Junc中的标记分类节点\n",
    "for i in range(JuncNum1+1, JuncNum2):\n",
    "    Junc[i]['flag'] = 1\n",
    "    print(f'Nodes {i} is downstream boundary point')\n",
    "\n",
    "for i in range(JuncNum2+1, JuncNum):\n",
    "    Junc[i]['flag'] = -1    \n",
    "    print(f'Nodes {i} is upstream boundary point')\n",
    "\n",
    "# 如果JuncNum1不为0,处理边界条件    \n",
    "Bou = {}\n",
    "if JuncNum1 != 0:\n",
    "    j = 1\n",
    "    for i in range(1, JuncNum):\n",
    "        if Junc[i]['flag'] != 0:\n",
    "            Bou[j]['No'] = i\n",
    "            Bou[j]['flag'] = Junc[i]['flag']\n",
    "            \n",
    "            if Junc[i]['flag'] == 1:\n",
    "                Bou[j].nc = Junc[i].out[0] \n",
    "            elif Junc[i].flag == -1:\n",
    "                Bou[j].nc = Junc[i].out[0]\n",
    "            \n",
    "            j += 1\n",
    "            \n",
    "# 如果JuncNum1为0,处理边界条件            \n",
    "elif JuncNum1 == 0:\n",
    "    j = 1\n",
    "    for i in range(1, JuncNum):\n",
    "        if Junc[i].flag != 0:\n",
    "            Bou[j].No = i\n",
    "            Bou[j].flag = Junc[i].flag\n",
    "            \n",
    "            if Junc[i]['flag'] == 1:\n",
    "                Bou[j].nc = Junc[i].out[0]\n",
    "            elif Junc[i]['flag'] == -1:\n",
    "                Bou[j].nc = Junc[i].in_[0]\n",
    "                \n",
    "            j += 1\n",
    "            \n",
    "BouNum = j - 1\n",
    "print(f'Number of boundary points: {BouNum}')\n",
    "\n",
    "# 打印边界条件信息\n",
    "for i in range(1, BouNum):\n",
    "    print(i, Bou[i].No, Bou[i].flag, Bou[i].nc)\n",
    "    \n",
    "print('Done')\n"
   ]
  },
  {
   "cell_type": "code",
   "execution_count": 51,
   "id": "cd2caafa-0cf1-4c82-ab85-c775f0cf9259",
   "metadata": {
    "tags": []
   },
   "outputs": [
    {
     "name": "stdout",
     "output_type": "stream",
     "text": [
      "Nodes 3 is upstream boundary point\n"
     ]
    },
    {
     "ename": "KeyError",
     "evalue": "1",
     "output_type": "error",
     "traceback": [
      "\u001b[0;31m---------------------------------------------------------------------------\u001b[0m",
      "\u001b[0;31mKeyError\u001b[0m                                  Traceback (most recent call last)",
      "Cell \u001b[0;32mIn[51], line 24\u001b[0m\n\u001b[1;32m     22\u001b[0m \u001b[38;5;28;01mfor\u001b[39;00m i \u001b[38;5;129;01min\u001b[39;00m \u001b[38;5;28mrange\u001b[39m(\u001b[38;5;241m1\u001b[39m, JuncNum):\n\u001b[1;32m     23\u001b[0m     \u001b[38;5;28;01mif\u001b[39;00m Junc[i][\u001b[38;5;124m'\u001b[39m\u001b[38;5;124mflag\u001b[39m\u001b[38;5;124m'\u001b[39m] \u001b[38;5;241m!=\u001b[39m \u001b[38;5;241m0\u001b[39m:\n\u001b[0;32m---> 24\u001b[0m         \u001b[43mBou\u001b[49m\u001b[43m[\u001b[49m\u001b[43mj\u001b[49m\u001b[43m]\u001b[49m\u001b[38;5;241m.\u001b[39mNo \u001b[38;5;241m=\u001b[39m i\n\u001b[1;32m     25\u001b[0m         Bou[j]\u001b[38;5;241m.\u001b[39mflag \u001b[38;5;241m=\u001b[39m Junc[i]\u001b[38;5;241m.\u001b[39mflag\n\u001b[1;32m     27\u001b[0m         \u001b[38;5;28;01mif\u001b[39;00m Junc[i]\u001b[38;5;241m.\u001b[39mflag \u001b[38;5;241m==\u001b[39m \u001b[38;5;241m1\u001b[39m:\n",
      "\u001b[0;31mKeyError\u001b[0m: 1"
     ]
    }
   ],
   "source": [
    "def read_file(f):\n",
    "    chan = [] \n",
    "    for i in range(ChanNum):\n",
    "        no, st, en, name = f.readline().split()\n",
    "        chan.append({'no': int(no), 'st': int(st), 'en': int(en), 'name': name})\n",
    "\n",
    "# 分类节点\n",
    "Junc = np.zeros(JuncNum, dtype=[('no', 'int'), ('flag', 'int')])\n",
    "for i in range(JuncNum1+1, JuncNum2):\n",
    "    Junc[i]['flag'] = 1\n",
    "    print(f'Nodes {i} is downstream boundary point')\n",
    "    \n",
    "for i in range(JuncNum2+1, JuncNum):\n",
    "    Junc[i]['flag'] = -1\n",
    "    print(f'Nodes {i} is upstream boundary point')\n",
    "\n",
    "\n",
    "# 如果JuncNum1不为0,处理边界条件    \n",
    "Bou = {}\n",
    "if JuncNum1 != 0:\n",
    "    j = 1\n",
    "    for i in range(1, JuncNum):\n",
    "        if Junc[i]['flag'] != 0:\n",
    "            Bou[j]['No'] = i\n",
    "            Bou[j].flag = Junc[i].flag\n",
    "            \n",
    "            if Junc[i].flag == 1:\n",
    "                Bou[j].nc = Junc[i].out[0] \n",
    "            elif Junc[i].flag == -1:\n",
    "                Bou[j].nc = Junc[i].out[0]\n",
    "            j += 1"
   ]
  },
  {
   "cell_type": "code",
   "execution_count": 49,
   "id": "1d28c1a7-27bf-457f-aaa5-b2a4dd74c93e",
   "metadata": {},
   "outputs": [
    {
     "ename": "AttributeError",
     "evalue": "'numpy.void' object has no attribute 'flag'",
     "output_type": "error",
     "traceback": [
      "\u001b[0;31m---------------------------------------------------------------------------\u001b[0m",
      "\u001b[0;31mAttributeError\u001b[0m                            Traceback (most recent call last)",
      "Cell \u001b[0;32mIn[49], line 6\u001b[0m\n\u001b[1;32m      4\u001b[0m j \u001b[38;5;241m=\u001b[39m \u001b[38;5;241m1\u001b[39m\n\u001b[1;32m      5\u001b[0m \u001b[38;5;28;01mfor\u001b[39;00m i \u001b[38;5;129;01min\u001b[39;00m \u001b[38;5;28mrange\u001b[39m(\u001b[38;5;241m1\u001b[39m, JuncNum):\n\u001b[0;32m----> 6\u001b[0m     \u001b[38;5;28;01mif\u001b[39;00m \u001b[43mJunc\u001b[49m\u001b[43m[\u001b[49m\u001b[43mi\u001b[49m\u001b[43m]\u001b[49m\u001b[38;5;241;43m.\u001b[39;49m\u001b[43mflag\u001b[49m \u001b[38;5;241m!=\u001b[39m \u001b[38;5;241m0\u001b[39m:\n\u001b[1;32m      7\u001b[0m         Bou[j]\u001b[38;5;241m.\u001b[39mNo \u001b[38;5;241m=\u001b[39m i\n\u001b[1;32m      8\u001b[0m         Bou[j]\u001b[38;5;241m.\u001b[39mflag \u001b[38;5;241m=\u001b[39m Junc[i]\u001b[38;5;241m.\u001b[39mflag\n",
      "\u001b[0;31mAttributeError\u001b[0m: 'numpy.void' object has no attribute 'flag'"
     ]
    }
   ],
   "source": []
  },
  {
   "cell_type": "code",
   "execution_count": null,
   "id": "dcb4115c-ec02-4aa1-b49a-06977b50f501",
   "metadata": {},
   "outputs": [],
   "source": [
    "# 如果JuncNum1为0,处理边界条件            \n",
    "elif JuncNum1 == 0:\n",
    "    j = 1\n",
    "    for i in range(1, JuncNum):\n",
    "        if Junc[i].flag != 0:\n",
    "            Bou[j].No = i\n",
    "            Bou[j].flag = Junc[i].flag\n",
    "            \n",
    "            if Junc[i].flag == 1:\n",
    "                Bou[j].nc = Junc[i].out[0]\n",
    "            elif Junc[i].flag == -1:\n",
    "                Bou[j].nc = Junc[i].in_[0]\n",
    "                \n",
    "            j += 1\n",
    "BouNum = j - 1\n",
    "print(f'Number of boundary points: {BouNum}')"
   ]
  },
  {
   "cell_type": "code",
   "execution_count": null,
   "id": "0f5ccd0f-78c9-4a65-a157-50a6f3ce76c3",
   "metadata": {},
   "outputs": [],
   "source": [
    "# 打印边界条件信息\n",
    "for i in range(1, BouNum):\n",
    "    print(i, Bou[i].No, Bou[i].flag, Bou[i].nc)\n",
    "    \n",
    "print('Done')"
   ]
  },
  {
   "cell_type": "code",
   "execution_count": null,
   "id": "5eb0ea2f-bacf-48a0-a892-b16b62bc50bd",
   "metadata": {},
   "outputs": [],
   "source": [
    "# 读取河段属性\n",
    "\n",
    "Chan = [[] for _ in range(ChanNum)]\n",
    "nsb = [0] * ChanNum  \n",
    "nse = [0] * ChanNum\n",
    "ccc = [0] * ChanNum\n",
    "\n",
    "with open(folder + 'RIVER_SECTION_FILE.txt') as f:\n",
    "    for j in range(c=ChanNum):\n",
    "        Chan[j] = Channel()  \n",
    "        sum = 0\n",
    "        Chan[j].name, nsb[j], nse[j] = f.readline().split()\n",
    "        nsb[j] = int(nsb[j])\n",
    "        nse[j] = int(nse[j])\n",
    "        \n",
    "        for i in range(nsb[j], nse[j]):\n",
    "             Chan[j].dx[i] = float(f.readline().split()[1])\n",
    "             sum += Chan[j].dx[i]\n",
    "\n",
    "        ccc[j] = sum"
   ]
  },
  {
   "cell_type": "code",
   "execution_count": null,
   "id": "233f1aee-ff70-41e0-bbe1-fb835d960305",
   "metadata": {},
   "outputs": [],
   "source": [
    "with open(folder + 'RIVER_SECTION_FILE.txt') as f:\n",
    "    for j in range(0, ChanNum):\n",
    "        sum = 0\n",
    "        Chan[j].name, nsb[j], nse[j] = f.readline().split()\n",
    "        print(f'reach-section {Chan[j].name} {j} {nsb[j]} {nse[j]}')\n",
    "        \n",
    "        for i in range(nsb[j], nse[j]-1):\n",
    "            kk, Chan[j].dx[i] = f.readline().split()\n",
    "            sum += Chan[j].dx[i]\n",
    "            \n",
    "        ccc[j] = sum"
   ]
  },
  {
   "cell_type": "code",
   "execution_count": null,
   "id": "fda4c8a7-4869-4c95-bc58-84ae1483a95e",
   "metadata": {},
   "outputs": [],
   "source": [
    "# 读取曼宁系数\n",
    "with open(folder + 'RIVER_MANNING_FILE.txt') as f:\n",
    "    for j in range(1, ChanNum):\n",
    "        for i in range(nsb[j], nse[j]):\n",
    "            Chan[j].rrn[i], Chan[j].rn[i], Chan[j].lrn[i], Chan[j].mrn[i], Chan[j].hrn[i] = f.readline().split()"
   ]
  },
  {
   "cell_type": "code",
   "execution_count": null,
   "id": "d4e6aa2b-87e5-4077-b9cb-7e90bed4d0b5",
   "metadata": {},
   "outputs": [],
   "source": [
    "# 读取河床高程\n",
    "se = np.zeros((ChanNum, 2, SecN, SecN))\n",
    "with open(folder + 'RIVER_BED_CON_FILE.txt') as f, open(folder1 + 'zb.txt', 'w') as f1:\n",
    "    sno = int(f.readline())\n",
    "    \n",
    "    for j in range(1, ChanNum):\n",
    "        ri, knum1 = f.readline().split()\n",
    "        \n",
    "        for i in range(nsb[j], nse[j]):\n",
    "            knum, sno = f.readline().split()\n",
    "            \n",
    "            for k in range(1, sno):\n",
    "                se[j,1,i,k], se[j,2,i,k] = f.readline().split()\n",
    "                \n",
    "            print(f\"Number of cross-section layers {j} {i}\") \n",
    "            Chan[j].zb[i] = min(se[j,2,i,0:sno])\n",
    "            print(se[j,2,i,0:sno])\n",
    "            f1.write(f\"{j} {i} {Chan[j].zb[i]}\\n\")\n",
    "            \n",
    "print('Terrain condition input completed')"
   ]
  },
  {
   "cell_type": "code",
   "execution_count": null,
   "id": "54b618fd-fec5-408e-adb2-f58b1eb69910",
   "metadata": {},
   "outputs": [],
   "source": [
    "# 打开上游边界文件\n",
    "with open(folder + 'RIVER_BOUNDARY_UP_FILE.txt') as f:\n",
    "    for j in range(1, UbouNum):\n",
    "        # 读取文件名\n",
    "        filename = f.readline().strip()\n",
    "        \n",
    "        # 打开具体的数据文件\n",
    "        with open(folder + filename + '.txt') as f2:\n",
    "        \n",
    "            i = 1\n",
    "            flag = 0\n",
    "            \n",
    "            # 读取时间和高程数据,直到遇到负时间结束\n",
    "            while flag == 0:\n",
    "                t, y = map(float, f2.readline().split())\n",
    "                Bou[j].t[i-1] = t \n",
    "                Bou[j].y[i-1] = y\n",
    "                \n",
    "                if t < 0:\n",
    "                    flag = 1\n",
    "                else:\n",
    "                    i += 1\n",
    "                    \n",
    "            # 关闭文件\n",
    "            f2.close()\n",
    "            \n",
    "        # 记录数据条数    \n",
    "        Bou[j].m = i - 1\n",
    "        print(f'm2={Bou[j].m}')\n",
    "        \n",
    "print('Upstream boundary condition loaded')"
   ]
  },
  {
   "cell_type": "code",
   "execution_count": null,
   "id": "ad78342e-504b-480f-a089-ae2542a0d2dc",
   "metadata": {},
   "outputs": [],
   "source": []
  }
 ],
 "metadata": {
  "kernelspec": {
   "display_name": "Python 3 (ipykernel)",
   "language": "python",
   "name": "python3"
  },
  "language_info": {
   "codemirror_mode": {
    "name": "ipython",
    "version": 3
   },
   "file_extension": ".py",
   "mimetype": "text/x-python",
   "name": "python",
   "nbconvert_exporter": "python",
   "pygments_lexer": "ipython3",
   "version": "3.9.13"
  }
 },
 "nbformat": 4,
 "nbformat_minor": 5
}
