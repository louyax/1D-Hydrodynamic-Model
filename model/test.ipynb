{
 "cells": [
  {
   "cell_type": "code",
   "execution_count": 1,
   "id": "73bb8f6b-af17-46b9-83de-003c2ffb6140",
   "metadata": {
    "tags": []
   },
   "outputs": [],
   "source": [
    "# 定义文件夹路径\n",
    "folder = '/home/louyaxin/1D-Hydrodynamic-Model/input/'\n",
    "folder2 = 'result/'"
   ]
  },
  {
   "cell_type": "code",
   "execution_count": 5,
   "id": "d169b6be-92b9-4741-ae02-298e528eff4b",
   "metadata": {
    "tags": []
   },
   "outputs": [],
   "source": [
    "with open(folder +'TOPO.txt') as f:\n",
    "    river_segment = [f.readline().strip() for i in range(3)]\n",
    "    \n",
    "    sep = f.readline().strip()\n",
    "    \n",
    "    nodes = []\n",
    "    for line in f:\n",
    "        line = line.strip().split(sep if sep else '\\t')\n",
    "        nodes.append(line)\n",
    "        \n",
    "    up_bound = nodes[8:11]\n",
    "    down_bound = nodes[-3:]"
   ]
  },
  {
   "cell_type": "code",
   "execution_count": 7,
   "id": "84d87247-e207-4150-be3a-39890c1f14bd",
   "metadata": {
    "tags": []
   },
   "outputs": [
    {
     "name": "stdout",
     "output_type": "stream",
     "text": [
      "['4     1     2', '3     0     1', '1     3']\n",
      "[['1', '2', '1', 'NJ_1'], ['2', '3', '1', 'NJ_2'], ['3', '4', '1', 'NJ_3'], [''], ['1'], ['3'], ['3'], [''], ['3'], ['3']]\n"
     ]
    }
   ],
   "source": [
    "print(river_segment)\n",
    "print(nodes)"
   ]
  },
  {
   "cell_type": "code",
   "execution_count": 4,
   "id": "1b529f61-08a7-4817-9593-a54ad58df04b",
   "metadata": {},
   "outputs": [
    {
     "name": "stdout",
     "output_type": "stream",
     "text": [
      "ChanNum=3\n"
     ]
    },
    {
     "ename": "ValueError",
     "evalue": "not enough values to unpack (expected 4, got 0)",
     "output_type": "error",
     "traceback": [
      "\u001b[0;31m---------------------------------------------------------------------------\u001b[0m",
      "\u001b[0;31mValueError\u001b[0m                                Traceback (most recent call last)",
      "Cell \u001b[0;32mIn[4], line 53\u001b[0m\n\u001b[1;32m     51\u001b[0m     \u001b[38;5;28mprint\u001b[39m(\u001b[38;5;124mf\u001b[39m\u001b[38;5;124m'\u001b[39m\u001b[38;5;124mChanNum=\u001b[39m\u001b[38;5;132;01m{\u001b[39;00mChanNum\u001b[38;5;132;01m}\u001b[39;00m\u001b[38;5;124m'\u001b[39m) \n\u001b[1;32m     52\u001b[0m     \u001b[38;5;28;01mfor\u001b[39;00m i \u001b[38;5;129;01min\u001b[39;00m \u001b[38;5;28mrange\u001b[39m(ChanNum):\n\u001b[0;32m---> 53\u001b[0m         Chan[i]\u001b[38;5;241m.\u001b[39mno, Chan[i]\u001b[38;5;241m.\u001b[39mst, Chan[i]\u001b[38;5;241m.\u001b[39men, Chan[i]\u001b[38;5;241m.\u001b[39mname \u001b[38;5;241m=\u001b[39m f\u001b[38;5;241m.\u001b[39mreadline()\u001b[38;5;241m.\u001b[39msplit()\n\u001b[1;32m     55\u001b[0m \u001b[38;5;28mprint\u001b[39m(\u001b[38;5;124m'\u001b[39m\u001b[38;5;124mHandle relations between river sections and nodes\u001b[39m\u001b[38;5;124m'\u001b[39m)\n",
      "\u001b[0;31mValueError\u001b[0m: not enough values to unpack (expected 4, got 0)"
     ]
    }
   ],
   "source": [
    "import numpy as np\n",
    "\n",
    "# 定义常量\n",
    "g = 9.81\n",
    "\n",
    "# 定义全局变量\n",
    "JuncNum = 0 \n",
    "ChanNum = 0\n",
    "ChanM = 100\n",
    "SecN = 1000\n",
    "JuncM = 100\n",
    "JuncN = 10 \n",
    "# ......其他变量定义\n",
    "\n",
    "# 定义数组\n",
    "sec = np.zeros(SecN, dtype=object) \n",
    "Chan = np.zeros(ChanM, dtype=object)\n",
    "Junc = np.zeros(JuncM, dtype=object)\n",
    "\n",
    "# 定义类\n",
    "class Section:\n",
    "    def __init__(self):\n",
    "        self.no = 0 \n",
    "        self.x = np.zeros(101)\n",
    "        self.z = np.zeros(101)\n",
    "\n",
    "class Channel:\n",
    "    def __init__(self):\n",
    "        self.name = ''\n",
    "        self.no = 0\n",
    "        self.st = 0\n",
    "        self.en = 0\n",
    "        #...其他属性\n",
    "        \n",
    "class Junction:\n",
    "    def __init__(self):\n",
    "        self.ki = 0\n",
    "        self.ko = 0\n",
    "        self.in_list = []\n",
    "        self.out_list = []\n",
    "     \n",
    "\n",
    "# 主程序\n",
    "folder = '/home/louyaxin/1DHydroDynamicModel/input/'\n",
    "\n",
    "with open(folder+'TOPO.txt') as f:\n",
    "    JuncNum, JuncNum1, JuncNum2 = [int(x) for x in f.readline().split()]  \n",
    "    ChanNum, chanNum1, chanNum2 = [int(x) for x in f.readline().split()]\n",
    "    UbouNum, AbouNum = [int(x) for x in f.readline().split()]\n",
    "\n",
    "    print(f'ChanNum={ChanNum}') \n",
    "    for i in range(ChanNum):\n",
    "        Chan[i].no, Chan[i].st, Chan[i].en, Chan[i].name = f.readline().split()\n",
    "        \n",
    "print('Handle relations between river sections and nodes')"
   ]
  },
  {
   "cell_type": "code",
   "execution_count": null,
   "id": "acfec4d0-ae04-4bc3-a6d9-bc047db1a60e",
   "metadata": {},
   "outputs": [],
   "source": [
    "# 建立节点类\n",
    "class Node:\n",
    "    def __init__(self):\n",
    "        self.in_channels = []\n",
    "        self.out_channels = []\n",
    "\n",
    "# 建立河道段类  \n",
    "class Channel:\n",
    "    def __init__(self, start_node, end_node):\n",
    "        self.start_node = start_node\n",
    "        self.end_node = end_node\n",
    "\n",
    "\n",
    "# 主程序\n",
    "channels = []\n",
    "node = []\n",
    "for i in range(len(channels)):\n",
    "    start_node = channels[i].start_node\n",
    "    end_node = channels[i].end_node\n",
    "\n",
    "    end_node.in_channels.append(i)\n",
    "    start_node.out_channels.append(i)\n",
    "# 统计\n",
    "for node in nodes:\n",
    "    print(len(node.in_channels), len(node.out_channels)) "
   ]
  },
  {
   "cell_type": "code",
   "execution_count": null,
   "id": "bc995eee-a6ad-49bd-9fef-c1ed7330b05c",
   "metadata": {},
   "outputs": [],
   "source": [
    "# 建立河道段和节点的对应关系  \n",
    "channels = []\n",
    "nodes = [Node() for i in range(JuncNum)]\n",
    "for channel in channels:\n",
    "    start_node = nodes[channel.start_node - 1]\n",
    "    end_node = nodes[channel.end_node - 1]\n",
    "\n",
    "    end_node.in_channels.append(channel.no)\n",
    "    start_node.out_channels.append(channel.no) "
   ]
  },
  {
   "cell_type": "code",
   "execution_count": null,
   "id": "b2864903-5fcd-48f1-86cf-e1bcfa37b04d",
   "metadata": {},
   "outputs": [],
   "source": [
    "# 输出节点的入出流统计\n",
    "for i, node in enumerate(nodes):\n",
    "    print(i+1, len(node.in_channels), len(node.out_channels))"
   ]
  },
  {
   "cell_type": "code",
   "execution_count": null,
   "id": "88e9bc61-68b0-4816-afea-cd06d93456fb",
   "metadata": {},
   "outputs": [],
   "source": [
    "def read_file(f):\n",
    "    chan = [] \n",
    "    for i in range(ChanNum):\n",
    "        no, st, en, name = f.readline().split()\n",
    "        chan.append({'no': int(no), 'st': int(st), 'en': int(en), 'name': name})\n",
    "\n",
    "# 分类节点\n",
    "Junc = np.zeros(JuncNum, dtype=[('no', 'int'), ('flag', 'int')])\n",
    "for i in range(JuncNum1+1, JuncNum2):\n",
    "    Junc[i]['flag'] = 1\n",
    "    print(f'Nodes {i} is downstream boundary point')\n",
    "    \n",
    "for i in range(JuncNum2+1, JuncNum):\n",
    "    Junc[i]['flag'] = -1\n",
    "    print(f'Nodes {i} is upstream boundary point')\n",
    "\n",
    "\n",
    "# 如果JuncNum1不为0,处理边界条件    \n",
    "Bou = {}\n",
    "if JuncNum1 != 0:\n",
    "    j = 1\n",
    "    for i in range(1, JuncNum):\n",
    "        if Junc[i]['flag'] != 0:\n",
    "            Bou[j]['No'] = i\n",
    "            Bou[j].flag = Junc[i].flag\n",
    "            \n",
    "            if Junc[i].flag == 1:\n",
    "                Bou[j].nc = Junc[i].out[0] \n",
    "            elif Junc[i].flag == -1:\n",
    "                Bou[j].nc = Junc[i].out[0]\n",
    "            j += 1"
   ]
  }
 ],
 "metadata": {
  "kernelspec": {
   "display_name": "Python 3 (ipykernel)",
   "language": "python",
   "name": "python3"
  },
  "language_info": {
   "codemirror_mode": {
    "name": "ipython",
    "version": 3
   },
   "file_extension": ".py",
   "mimetype": "text/x-python",
   "name": "python",
   "nbconvert_exporter": "python",
   "pygments_lexer": "ipython3",
   "version": "3.9.13"
  }
 },
 "nbformat": 4,
 "nbformat_minor": 5
}
