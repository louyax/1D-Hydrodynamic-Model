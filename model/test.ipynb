{
 "cells": [
  {
   "cell_type": "code",
   "execution_count": 1,
   "id": "73bb8f6b-af17-46b9-83de-003c2ffb6140",
   "metadata": {
    "tags": []
   },
   "outputs": [],
   "source": [
    "# 定义文件夹路径\n",
    "folder = '/home/louyaxin/1D-Hydrodynamic-Model/input/'\n",
    "folder2 = 'result/'"
   ]
  },
  {
   "cell_type": "code",
   "execution_count": 5,
   "id": "d169b6be-92b9-4741-ae02-298e528eff4b",
   "metadata": {
    "tags": []
   },
   "outputs": [],
   "source": [
    "with open(folder +'TOPO.txt') as f:\n",
    "    river_segment = [f.readline().strip() for i in range(3)]\n",
    "    \n",
    "    sep = f.readline().strip()\n",
    "    \n",
    "    nodes = []\n",
    "    for line in f:\n",
    "        line = line.strip().split(sep if sep else '\\t')\n",
    "        nodes.append(line)\n",
    "        \n",
    "    up_bound = nodes[8:11]\n",
    "    down_bound = nodes[-3:]"
   ]
  },
  {
   "cell_type": "code",
   "execution_count": 7,
   "id": "84d87247-e207-4150-be3a-39890c1f14bd",
   "metadata": {
    "tags": []
   },
   "outputs": [
    {
     "name": "stdout",
     "output_type": "stream",
     "text": [
      "['4     1     2', '3     0     1', '1     3']\n",
      "[['1', '2', '1', 'NJ_1'], ['2', '3', '1', 'NJ_2'], ['3', '4', '1', 'NJ_3'], [''], ['1'], ['3'], ['3'], [''], ['3'], ['3']]\n"
     ]
    }
   ],
   "source": [
    "print(river_segment)\n",
    "print(nodes)"
   ]
  },
  {
   "cell_type": "code",
   "execution_count": null,
   "id": "1b529f61-08a7-4817-9593-a54ad58df04b",
   "metadata": {},
   "outputs": [],
   "source": []
  }
 ],
 "metadata": {
  "kernelspec": {
   "display_name": "Python (tutorial)",
   "language": "python",
   "name": "tutorial"
  },
  "language_info": {
   "codemirror_mode": {
    "name": "ipython",
    "version": 3
   },
   "file_extension": ".py",
   "mimetype": "text/x-python",
   "name": "python",
   "nbconvert_exporter": "python",
   "pygments_lexer": "ipython3",
   "version": "3.9.13"
  }
 },
 "nbformat": 4,
 "nbformat_minor": 5
}
