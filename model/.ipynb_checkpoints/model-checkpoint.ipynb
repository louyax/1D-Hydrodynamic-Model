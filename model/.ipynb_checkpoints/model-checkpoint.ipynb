{
 "cells": [
  {
   "cell_type": "code",
   "execution_count": 1,
   "id": "d1967bc5-b117-45c0-8482-1975dcf33e4f",
   "metadata": {},
   "outputs": [],
   "source": [
    "import numpy as np"
   ]
  },
  {
   "cell_type": "code",
   "execution_count": 2,
   "id": "2616619a-1eb2-480a-99fd-b60398145e36",
   "metadata": {},
   "outputs": [],
   "source": [
    "# 定义变量\n",
    "m = 1000 \n",
    "theta = 0.75\n",
    "alp = 1.0"
   ]
  },
  {
   "cell_type": "code",
   "execution_count": 3,
   "id": "f866ef93-3d99-409f-9e40-1c76e3d88db9",
   "metadata": {},
   "outputs": [],
   "source": [
    "# 定义文件夹路径\n",
    "folder = '/home/louyaxin/1D-Hydrodynamic-Model/input/'\n",
    "folder2 = 'result/'"
   ]
  },
  {
   "cell_type": "code",
   "execution_count": 20,
   "id": "e57b2322-9d08-4565-bbdc-16e8322b9ece",
   "metadata": {},
   "outputs": [
    {
     "ename": "IndentationError",
     "evalue": "expected an indented block (2097751876.py, line 11)",
     "output_type": "error",
     "traceback": [
      "\u001b[0;36m  Input \u001b[0;32mIn [20]\u001b[0;36m\u001b[0m\n\u001b[0;31m    print(line)\u001b[0m\n\u001b[0m    ^\u001b[0m\n\u001b[0;31mIndentationError\u001b[0m\u001b[0;31m:\u001b[0m expected an indented block\n"
     ]
    }
   ],
   "source": [
    "# 打开拓扑文件\n",
    "with open(folder + 'TOPO.txt') as f:\n",
    "    JuncNum, JuncNum1, JuncNum2 = [int(x) for x in f.readline().split()] \n",
    "    ChanNum, chanNum1, chanNum2 = [int(x) for x in f.readline().split()]\n",
    "    UbouNum, AbouNum = [int(x) for x in f.readline().split()]\n"
   ]
  },
  {
   "cell_type": "code",
   "execution_count": 22,
   "id": "ca179c3a-aa5c-49cb-8329-19ca7856fa66",
   "metadata": {
    "tags": []
   },
   "outputs": [
    {
     "ename": "NameError",
     "evalue": "name 'start' is not defined",
     "output_type": "error",
     "traceback": [
      "\u001b[0;31m---------------------------------------------------------------------------\u001b[0m",
      "\u001b[0;31mNameError\u001b[0m                                 Traceback (most recent call last)",
      "Input \u001b[0;32mIn [22]\u001b[0m, in \u001b[0;36m<cell line: 1>\u001b[0;34m()\u001b[0m\n\u001b[1;32m      4\u001b[0m     start \u001b[38;5;241m=\u001b[39m \u001b[38;5;28;01mTrue\u001b[39;00m\n\u001b[1;32m      5\u001b[0m     \u001b[38;5;28;01mcontinue\u001b[39;00m\n\u001b[0;32m----> 6\u001b[0m \u001b[38;5;28;01mif\u001b[39;00m \u001b[43mstart\u001b[49m:\n\u001b[1;32m      7\u001b[0m     \u001b[38;5;28mprint\u001b[39m(line)\n",
      "\u001b[0;31mNameError\u001b[0m: name 'start' is not defined"
     ]
    }
   ],
   "source": []
  },
  {
   "cell_type": "code",
   "execution_count": 5,
   "id": "584ef319-46f6-447e-b2c9-49e76db736f3",
   "metadata": {
    "tags": []
   },
   "outputs": [
    {
     "name": "stdout",
     "output_type": "stream",
     "text": [
      "ChanNum=3, chanNum1=0, chanNum2=1\n",
      "JuncNum=4, JuncNum1=1, JuncNum2=2\n",
      "river star end\n"
     ]
    }
   ],
   "source": [
    "print(f'ChanNum={ChanNum}, chanNum1={chanNum1}, chanNum2={chanNum2}') \n",
    "print(f'JuncNum={JuncNum}, JuncNum1={JuncNum1}, JuncNum2={JuncNum2}')\n",
    "print('river star end')"
   ]
  },
  {
   "cell_type": "code",
   "execution_count": 10,
   "id": "b279f32c-3a6b-4d12-b82f-f5085615dc3e",
   "metadata": {
    "tags": []
   },
   "outputs": [],
   "source": [
    "# 定义河道段类\n",
    "class Channel:\n",
    "    def __init__(self, no, start_node, end_node, name):\n",
    "        self.no = no\n",
    "        self.start_node = start_node\n",
    "        self.end_node = end_node\n",
    "        self.name = name"
   ]
  },
  {
   "cell_type": "code",
   "execution_count": 11,
   "id": "cbf22850-76a5-4d5b-9c5e-20cb5d409833",
   "metadata": {
    "tags": []
   },
   "outputs": [],
   "source": [
    "# 定义节点类  \n",
    "class Node:\n",
    "    def __init__(self):\n",
    "        self.in_channels = []\n",
    "        self.out_channels = []"
   ]
  },
  {
   "cell_type": "code",
   "execution_count": 25,
   "id": "f02e2918-5c2b-4ce7-a018-0bfe4b8b1a9b",
   "metadata": {
    "tags": []
   },
   "outputs": [
    {
     "name": "stdout",
     "output_type": "stream",
     "text": [
      "4     1     2\n",
      "\n"
     ]
    },
    {
     "ename": "ValueError",
     "evalue": "not enough values to unpack (expected 4, got 3)",
     "output_type": "error",
     "traceback": [
      "\u001b[0;31m---------------------------------------------------------------------------\u001b[0m",
      "\u001b[0;31mValueError\u001b[0m                                Traceback (most recent call last)",
      "Input \u001b[0;32mIn [25]\u001b[0m, in \u001b[0;36m<cell line: 7>\u001b[0;34m()\u001b[0m\n\u001b[1;32m      8\u001b[0m line \u001b[38;5;241m=\u001b[39m lines[i]  \n\u001b[1;32m      9\u001b[0m \u001b[38;5;28mprint\u001b[39m(line) \n\u001b[0;32m---> 10\u001b[0m no, start, end, name \u001b[38;5;241m=\u001b[39m line\u001b[38;5;241m.\u001b[39msplit()\n",
      "\u001b[0;31mValueError\u001b[0m: not enough values to unpack (expected 4, got 3)"
     ]
    }
   ],
   "source": [
    "# 读取每个河道段数据    \n",
    "with open(folder + 'TOPO.txt') as f:\n",
    "    lines = f.readlines()\n",
    "for i in range(ChanNum):\n",
    "    line = lines[i]  \n",
    "    print(line) \n",
    "    no, start, end, name = line.split()"
   ]
  },
  {
   "cell_type": "code",
   "execution_count": 23,
   "id": "9e275cf8-1507-4fd7-8f0f-86b8dc81540b",
   "metadata": {
    "tags": []
   },
   "outputs": [
    {
     "ename": "NameError",
     "evalue": "name 'start' is not defined",
     "output_type": "error",
     "traceback": [
      "\u001b[0;31m---------------------------------------------------------------------------\u001b[0m",
      "\u001b[0;31mNameError\u001b[0m                                 Traceback (most recent call last)",
      "Input \u001b[0;32mIn [23]\u001b[0m, in \u001b[0;36m<cell line: 1>\u001b[0;34m()\u001b[0m\n\u001b[1;32m      4\u001b[0m     start \u001b[38;5;241m=\u001b[39m \u001b[38;5;28;01mTrue\u001b[39;00m\n\u001b[1;32m      5\u001b[0m     \u001b[38;5;28;01mcontinue\u001b[39;00m\n\u001b[0;32m----> 6\u001b[0m \u001b[38;5;28;01mif\u001b[39;00m \u001b[43mstart\u001b[49m:\n\u001b[1;32m      7\u001b[0m     \u001b[38;5;28mprint\u001b[39m(line)\n",
      "\u001b[0;31mNameError\u001b[0m: name 'start' is not defined"
     ]
    }
   ],
   "source": [
    "with open(folder + 'TOPO.txt') as f: \n",
    "    for line in f:\n",
    "        if line.isspace():\n",
    "            start = True\n",
    "            continue\n",
    "        if start:\n",
    "            print(line)"
   ]
  },
  {
   "cell_type": "code",
   "execution_count": 15,
   "id": "e835f9ad-7f16-4d4a-a7f7-21d9354fdc29",
   "metadata": {
    "tags": []
   },
   "outputs": [
    {
     "name": "stdout",
     "output_type": "stream",
     "text": [
      "4     1     2\n",
      "\n"
     ]
    },
    {
     "ename": "ValueError",
     "evalue": "not enough values to unpack (expected 4, got 3)",
     "output_type": "error",
     "traceback": [
      "\u001b[0;31m---------------------------------------------------------------------------\u001b[0m",
      "\u001b[0;31mValueError\u001b[0m                                Traceback (most recent call last)",
      "Input \u001b[0;32mIn [15]\u001b[0m, in \u001b[0;36m<cell line: 1>\u001b[0;34m()\u001b[0m\n\u001b[1;32m      2\u001b[0m line \u001b[38;5;241m=\u001b[39m lines[i]  \n\u001b[1;32m      3\u001b[0m \u001b[38;5;28mprint\u001b[39m(line) \n\u001b[0;32m----> 4\u001b[0m no, start, end, name \u001b[38;5;241m=\u001b[39m line\u001b[38;5;241m.\u001b[39msplit()\n",
      "\u001b[0;31mValueError\u001b[0m: not enough values to unpack (expected 4, got 3)"
     ]
    }
   ],
   "source": []
  },
  {
   "cell_type": "code",
   "execution_count": null,
   "id": "4fdf96af-059f-4f52-a5ed-299d967fcad0",
   "metadata": {},
   "outputs": [],
   "source": [
    "# 建立河道段和节点的对应关系  \n",
    "nodes = [Node() for i in range(JuncNum)]\n",
    "for channel in channels:\n",
    "    start_node = nodes[channel.start_node - 1]\n",
    "    end_node = nodes[channel.end_node - 1]\n",
    "\n",
    "    end_node.in_channels.append(channel.no)\n",
    "    start_node.out_channels.append(channel.no) "
   ]
  },
  {
   "cell_type": "code",
   "execution_count": null,
   "id": "bbf22e9d-1815-4bd1-b1f3-09fc629ac3af",
   "metadata": {},
   "outputs": [],
   "source": [
    "# 输出节点的入出流统计\n",
    "for i, node in enumerate(nodes):\n",
    "    print(i+1, len(node.in_channels), len(node.out_channels))"
   ]
  },
  {
   "cell_type": "code",
   "execution_count": 6,
   "id": "09508396-2e92-4ace-bc4c-f5d0d384840a",
   "metadata": {
    "tags": []
   },
   "outputs": [],
   "source": [
    "#打开时间步长文件\n",
    "with open(folder + 'TIME.txt') as f:\n",
    "    dt = float(f.readline())  \n",
    "    rdt = float(f.readline())"
   ]
  },
  {
   "cell_type": "code",
   "execution_count": 7,
   "id": "cd2caafa-0cf1-4c82-ab85-c775f0cf9259",
   "metadata": {
    "tags": []
   },
   "outputs": [
    {
     "name": "stdout",
     "output_type": "stream",
     "text": [
      "Nodes 3 is upstream boundary point\n"
     ]
    }
   ],
   "source": [
    "def read_file(f):\n",
    "    chan = [] \n",
    "    for i in range(ChanNum):\n",
    "        no, st, en, name = f.readline().split()\n",
    "        chan.append({'no': int(no), 'st': int(st), 'en': int(en), 'name': name})\n",
    "\n",
    "# 分类节点\n",
    "Junc = np.zeros(JuncNum, dtype=[('no', 'int'), ('flag', 'int')])\n",
    "for i in range(JuncNum1+1, JuncNum2):\n",
    "    Junc[i]['flag'] = 1\n",
    "    print(f'Nodes {i} is downstream boundary point')\n",
    "    \n",
    "for i in range(JuncNum2+1, JuncNum):\n",
    "    Junc[i]['flag'] = -1\n",
    "    print(f'Nodes {i} is upstream boundary point')"
   ]
  },
  {
   "cell_type": "code",
   "execution_count": 9,
   "id": "69636e1c-1551-4487-a49d-1adeeb1b0b3e",
   "metadata": {
    "tags": []
   },
   "outputs": [
    {
     "ename": "NameError",
     "evalue": "name 'channels' is not defined",
     "output_type": "error",
     "traceback": [
      "\u001b[0;31m---------------------------------------------------------------------------\u001b[0m",
      "\u001b[0;31mNameError\u001b[0m                                 Traceback (most recent call last)",
      "Input \u001b[0;32mIn [9]\u001b[0m, in \u001b[0;36m<cell line: 14>\u001b[0;34m()\u001b[0m\n\u001b[1;32m     11\u001b[0m         \u001b[38;5;28mself\u001b[39m\u001b[38;5;241m.\u001b[39mend_node \u001b[38;5;241m=\u001b[39m end_node\n\u001b[1;32m     13\u001b[0m \u001b[38;5;66;03m# 主程序\u001b[39;00m\n\u001b[0;32m---> 14\u001b[0m \u001b[38;5;28;01mfor\u001b[39;00m i \u001b[38;5;129;01min\u001b[39;00m \u001b[38;5;28mrange\u001b[39m(\u001b[38;5;28mlen\u001b[39m(\u001b[43mchannels\u001b[49m)):\n\u001b[1;32m     15\u001b[0m     start_node \u001b[38;5;241m=\u001b[39m channels[i]\u001b[38;5;241m.\u001b[39mstart_node\n\u001b[1;32m     16\u001b[0m     end_node \u001b[38;5;241m=\u001b[39m channels[i]\u001b[38;5;241m.\u001b[39mend_node\n",
      "\u001b[0;31mNameError\u001b[0m: name 'channels' is not defined"
     ]
    }
   ],
   "source": [
    "# 建立节点类\n",
    "class Node:\n",
    "    def __init__(self):\n",
    "        self.in_channels = []\n",
    "        self.out_channels = []\n",
    "\n",
    "# 建立河道段类  \n",
    "class Channel:\n",
    "    def __init__(self, start_node, end_node):\n",
    "        self.start_node = start_node\n",
    "        self.end_node = end_node\n",
    "\n",
    "# 主程序\n",
    "for i in range(len(channels)):\n",
    "    start_node = channels[i].start_node\n",
    "    end_node = channels[i].end_node\n",
    "\n",
    "    end_node.in_channels.append(i)\n",
    "    start_node.out_channels.append(i)\n",
    "\n",
    "# 统计\n",
    "for node in nodes:\n",
    "    print(len(node.in_channels), len(node.out_channels)) "
   ]
  },
  {
   "cell_type": "code",
   "execution_count": null,
   "id": "1d28c1a7-27bf-457f-aaa5-b2a4dd74c93e",
   "metadata": {},
   "outputs": [],
   "source": []
  }
 ],
 "metadata": {
  "kernelspec": {
   "display_name": "Python (tutorial)",
   "language": "python",
   "name": "tutorial"
  },
  "language_info": {
   "codemirror_mode": {
    "name": "ipython",
    "version": 3
   },
   "file_extension": ".py",
   "mimetype": "text/x-python",
   "name": "python",
   "nbconvert_exporter": "python",
   "pygments_lexer": "ipython3",
   "version": "3.9.13"
  }
 },
 "nbformat": 4,
 "nbformat_minor": 5
}
