{
 "cells": [
  {
   "cell_type": "code",
   "execution_count": null,
   "id": "d5a13f23-4de8-4adf-a1e4-b7890f5f332a",
   "metadata": {},
   "outputs": [],
   "source": [
    "import numpy as np\n",
    "\n",
    "def tran_chan_junc():\n",
    "    print(f'ChanNum={ChanNum}') \n",
    "    print(f'JuncNum={JuncNum}')\n",
    "    \n",
    "    Junc.ki = 1\n",
    "    Junc.ko = 1\n",
    "    print('River section number in out')\n",
    "    \n",
    "    for i in range(ChanNum):\n",
    "        s = Chan[i].st \n",
    "        e = Chan[i].en\n",
    "        \n",
    "        Junc[e].in_list[Junc[e].ki-1] = i\n",
    "        Junc[s].out_list[Junc[s].ko-1] = i\n",
    "        \n",
    "        Junc[e].ki += 1 \n",
    "        Junc[s].ko += 1\n",
    "        \n",
    "        print(f'{Chan[i].no} {s} {e} {Junc[e].ki-1} {Junc[s].ko-1}')\n",
    "        print(f'{Chan[i].no} {s} {e} ki({e})={Junc[e].ki-1} {Junc[s].ko-1}')\n",
    "\n",
    "    Junc.ki -= 1\n",
    "    Junc.ko -= 1\n",
    "    \n",
    "    for i in range(1, JuncNum+1):\n",
    "        print(f'{i} {Junc[i].ki} {Junc[i].ko}')\n",
    "        \n",
    "    print('Statistics of river reach at inflow and outflow nodes')\n",
    "    \n",
    "    for i in range(1, JuncNum+1):\n",
    "        Junc[i].flag = 0\n",
    "        for j in Junc[i].in_list:\n",
    "            pass\n",
    "            \n",
    "        for j in Junc[i].out_list:\n",
    "            pass\n",
    "            \n",
    "return"
   ]
  }
 ],
 "metadata": {
  "kernelspec": {
   "display_name": "Python 3 (ipykernel)",
   "language": "python",
   "name": "python3"
  },
  "language_info": {
   "codemirror_mode": {
    "name": "ipython",
    "version": 3
   },
   "file_extension": ".py",
   "mimetype": "text/x-python",
   "name": "python",
   "nbconvert_exporter": "python",
   "pygments_lexer": "ipython3",
   "version": "3.9.13"
  }
 },
 "nbformat": 4,
 "nbformat_minor": 5
}
